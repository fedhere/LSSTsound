{
 "cells": [
  {
   "cell_type": "markdown",
   "source": [
    "# Code"
   ],
   "metadata": {}
  },
  {
   "cell_type": "code",
   "execution_count": null,
   "source": [
    "!pip install midiutil\n",
    "!pip install pygame\n",
    "!pip install pretty_midi\n",
    "!pip install seaborn"
   ],
   "outputs": [],
   "metadata": {}
  },
  {
   "cell_type": "code",
   "execution_count": 1,
   "source": [
    "import sonify\n",
    "import matplotlib.pyplot as plt\n",
    "import numpy as np\n",
    "import pandas as pd\n",
    "from midiutil import MIDIFile\n",
    "import seaborn as sns"
   ],
   "outputs": [
    {
     "output_type": "stream",
     "name": "stdout",
     "text": [
      "pygame 2.0.1 (SDL 2.0.14, Python 3.9.5)\n",
      "Hello from the pygame community. https://www.pygame.org/contribute.html\n"
     ]
    }
   ],
   "metadata": {}
  },
  {
   "cell_type": "code",
   "execution_count": 2,
   "source": [
    "data = pd.read_csv(\"data/plasticc_train_lightcurves.csv.gz\") \n",
    "dataMETA = pd.read_csv(\"data/plasticc_train_metadata.csv.gz\")"
   ],
   "outputs": [],
   "metadata": {}
  },
  {
   "cell_type": "code",
   "execution_count": 3,
   "source": [
    "def plotObject(objectID, x0=None, x1=None, y0=None, y1=None):\n",
    "    plt.figure(figsize=(10, 3))\n",
    "    plt.xlabel(\"Time (MJD)\")\n",
    "    plt.ylabel(\"Flux\")\n",
    "\n",
    "    objData = data[\"object_id\"].isin([objectID])\n",
    "    obj = data[objData]\n",
    "    time = obj[\"mjd\"]\n",
    "    flux = obj[\"flux\"]\n",
    "\n",
    "    plt.plot(time, flux, 'o', color = \"black\")\n",
    "    if not (x0 is None) and not (x1 is None):\n",
    "        plt.xlim(x0,x1)\n",
    "    if not (y0 is None) and not (y1 is None):\n",
    "        plt.ylim(y0,y1)"
   ],
   "outputs": [],
   "metadata": {}
  },
  {
   "cell_type": "code",
   "execution_count": 4,
   "source": [
    "def multiPlotObject(objectID,x=None,x0=None, x1=None, y0=None, y1=None):\n",
    "    plt.figure(figsize=(10, 5))\n",
    "    plt.xlabel(\"Time (MJD)\")\n",
    "    plt.ylabel(\"Flux\")\n",
    "    plt.title(\"object: \"+str(objectID))\n",
    "\n",
    "    ugrizy = ['u','g','r','i','z','y']\n",
    "    newColorsL = ['#cc78bc','#0173b2','#029e73','#ece133','#de8f05','#d55e00']\n",
    "    sns.set_palette(newColorsL)\n",
    "\n",
    "\n",
    "    objData = data[\"object_id\"].isin([objectID])\n",
    "    obj = data[objData]\n",
    "\n",
    "    for i in range(6):\n",
    "        objPfilt = obj[\"passband\"].isin([i])\n",
    "        objP = obj[objPfilt]\n",
    "        timeP = objP[\"mjd\"]\n",
    "        fluxP = objP[\"flux\"]\n",
    "        fErr = objP[\"flux_err\"]\n",
    "        \n",
    "        plt.errorbar(timeP,fluxP,yerr = fErr,fmt ='o', capsize=0, label = ugrizy[i])\n",
    "        plt.legend(title= \"Passband Legend\",bbox_to_anchor=(1.2,1))\n",
    "    if not (x0 is None) and not (x1 is None):\n",
    "        plt.xlim(x0,x1)\n",
    "    if not (y0 is None) and not (y1 is None):\n",
    "        plt.ylim(y0,y1)\n",
    "\n",
    "    if not (x is None):\n",
    "        y0,y1 = plt.ylim()\n",
    "        x0,x1 = plt.xlim()\n",
    "    \n",
    "        plt.plot([x,x+20],[y1,y1],\"k\",alpha=0.5,lw=3)\n",
    "        plt.savefig(\"plotFigures/test%d.png\"%(int(x)), bbox_inches='tight')\n"
   ],
   "outputs": [],
   "metadata": {}
  },
  {
   "cell_type": "code",
   "execution_count": 5,
   "source": [
    "def sonification(objectID):\n",
    "\n",
    "    FEObj = pd.DataFrame()\n",
    "    \n",
    "    objData = data[\"object_id\"].isin([objectID])\n",
    "    obj = data[objData]\n",
    "    time = obj[\"mjd\"]\n",
    "    flux = obj[\"flux\"]\n",
    "\n",
    "\n",
    "    x_points = time\n",
    "    y_points = flux\n",
    "    low_note=20\n",
    "    high_note=100\n",
    "    normalized_x = sonify.core.scale_list_to_range(x_points, new_min=0, new_max=30)\n",
    "    normalized_y = sonify.core.scale_list_to_range(y_points, new_min=low_note, new_max=high_note)\n",
    "            \n",
    "    normed_data = list(zip(normalized_x, normalized_y))\n",
    "    FEObj = obj\n",
    "    sonify.play_midi_from_data(normed_data, track_type='single', key='c_major',df=FEObj)\n",
    "\n"
   ],
   "outputs": [],
   "metadata": {}
  },
  {
   "cell_type": "code",
   "execution_count": 16,
   "source": [
    "def multiSonification(objectID):\n",
    "    multiData = []\n",
    "\n",
    "    FEObj = pd.DataFrame()\n",
    "    objData = data[\"object_id\"].isin([objectID])\n",
    "    obj = data[objData]\n",
    "    \n",
    "    for i in range(6):\n",
    "        objPfilt = obj[\"passband\"].isin([i])\n",
    "        objP = obj[objPfilt]\n",
    "        timeP = objP[\"mjd\"]\n",
    "        fluxP = objP[\"flux\"]\n",
    "        scaled_x = sonify.scale_list_to_range(timeP, new_min=0, new_max=30)\n",
    "        scaled_y = sonify.scale_list_to_range(fluxP, new_min=0, new_max=30)\n",
    "        quantized_x = sonify.quantize_x_value(scaled_x)\n",
    "        \n",
    "        multiData.append(list(zip(quantized_x, scaled_y)))\n",
    "    \n",
    "    instruments_to_add = [\n",
    "    'steel drums', 'rock organ', 'pizzicato strings', 'oboe', 'ocarina','violin'\n",
    "    ]\n",
    "    multiDataWIntsruments = []\n",
    "    for index, track in enumerate(multiData):\n",
    "        multiDataWIntsruments.append([instruments_to_add[index]] + track)\n",
    "    \n",
    "\n",
    "    FEObj = obj\n",
    "    \n",
    "    sonify.play_midi_from_data(multiDataWIntsruments, track_type='multiple', key='c_major', df=FEObj)\n",
    "    #return FEObj"
   ],
   "outputs": [],
   "metadata": {}
  },
  {
   "cell_type": "markdown",
   "source": [
    "# Plots and Sonification"
   ],
   "metadata": {}
  },
  {
   "cell_type": "code",
   "execution_count": null,
   "source": [
    "plotObject(5515915)"
   ],
   "outputs": [],
   "metadata": {}
  },
  {
   "cell_type": "code",
   "execution_count": null,
   "source": [
    "sonification(5515915)"
   ],
   "outputs": [],
   "metadata": {}
  },
  {
   "cell_type": "code",
   "execution_count": 22,
   "source": [
    "multiPlotObject(5515915)"
   ],
   "outputs": [
    {
     "output_type": "display_data",
     "data": {
      "text/plain": [
       "<Figure size 720x360 with 1 Axes>"
      ],
      "image/png": "[encoded data removed]"
     },
     "metadata": {
      "needs_background": "light"
     }
    }
   ],
   "metadata": {}
  },
  {
   "cell_type": "code",
   "execution_count": null,
   "source": [
    "multiSonification(5515915)"
   ],
   "outputs": [],
   "metadata": {}
  },
  {
   "cell_type": "markdown",
   "source": [
    "----"
   ],
   "metadata": {}
  },
  {
   "cell_type": "code",
   "execution_count": null,
   "source": [
    "plotObject(287556)"
   ],
   "outputs": [],
   "metadata": {}
  },
  {
   "cell_type": "code",
   "execution_count": null,
   "source": [
    "sonification(287556)"
   ],
   "outputs": [],
   "metadata": {}
  },
  {
   "cell_type": "code",
   "execution_count": null,
   "source": [
    "multiPlotObject(287556)"
   ],
   "outputs": [],
   "metadata": {}
  },
  {
   "cell_type": "code",
   "execution_count": null,
   "source": [
    "multiSonification(287556)"
   ],
   "outputs": [],
   "metadata": {}
  },
  {
   "cell_type": "code",
   "execution_count": null,
   "source": [
    "multiPlotObject(615)"
   ],
   "outputs": [],
   "metadata": {}
  },
  {
   "cell_type": "code",
   "execution_count": null,
   "source": [
    "for i in range(59800,60600,50):\n",
    "    multiPlotObject(615, x=i)"
   ],
   "outputs": [],
   "metadata": {}
  },
  {
   "cell_type": "code",
   "execution_count": 11,
   "source": [
    "multiSonification(615)"
   ],
   "outputs": [
    {
     "output_type": "stream",
     "name": "stdout",
     "text": [
      "Done playing!\n"
     ]
    }
   ],
   "metadata": {}
  },
  {
   "cell_type": "code",
   "execution_count": 17,
   "source": [
    "test = multiSonification(5515915)"
   ],
   "outputs": [],
   "metadata": {}
  }
 ],
 "metadata": {
  "orig_nbformat": 4,
  "language_info": {
   "name": "python",
   "version": "3.9.5",
   "mimetype": "text/x-python",
   "codemirror_mode": {
    "name": "ipython",
    "version": 3
   },
   "pygments_lexer": "ipython3",
   "nbconvert_exporter": "python",
   "file_extension": ".py"
  },
  "kernelspec": {
   "name": "python3",
   "display_name": "Python 3.9.5 64-bit ('3.9')"
  },
  "interpreter": {
   "hash": "7812ea015bdcee6f23a998adcdd2ef97c151c0c241b7b7070987d9313e41299d"
  }
 },
 "nbformat": 4,
 "nbformat_minor": 2
}