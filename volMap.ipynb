{
 "cells": [
  {
   "cell_type": "markdown",
   "source": [
    "# Code"
   ],
   "metadata": {}
  },
  {
   "cell_type": "code",
   "execution_count": 1,
   "source": [
    "!pip install midiutil\n",
    "!pip install pygame\n",
    "!pip install pretty_midi"
   ],
   "outputs": [
    {
     "output_type": "stream",
     "name": "stdout",
     "text": [
      "Requirement already satisfied: midiutil in /Library/Frameworks/Python.framework/Versions/3.9/lib/python3.9/site-packages (1.2.1)\n",
      "Requirement already satisfied: pygame in /Library/Frameworks/Python.framework/Versions/3.9/lib/python3.9/site-packages (2.0.1)\n",
      "Requirement already satisfied: pretty_midi in /Library/Frameworks/Python.framework/Versions/3.9/lib/python3.9/site-packages (0.2.9)\n",
      "Requirement already satisfied: numpy>=1.7.0 in /Library/Frameworks/Python.framework/Versions/3.9/lib/python3.9/site-packages (from pretty_midi) (1.20.3)\n",
      "Requirement already satisfied: mido>=1.1.16 in /Library/Frameworks/Python.framework/Versions/3.9/lib/python3.9/site-packages (from pretty_midi) (1.2.10)\n",
      "Requirement already satisfied: six in /Library/Frameworks/Python.framework/Versions/3.9/lib/python3.9/site-packages (from pretty_midi) (1.16.0)\n"
     ]
    }
   ],
   "metadata": {}
  },
  {
   "cell_type": "code",
   "execution_count": 2,
   "source": [
    "import sonify\n",
    "import matplotlib.pyplot as plt\n",
    "import numpy as np\n",
    "import pandas as pd\n",
    "from midiutil import MIDIFile"
   ],
   "outputs": [
    {
     "output_type": "stream",
     "name": "stdout",
     "text": [
      "pygame 2.0.1 (SDL 2.0.14, Python 3.9.5)\n",
      "Hello from the pygame community. https://www.pygame.org/contribute.html\n"
     ]
    }
   ],
   "metadata": {}
  },
  {
   "cell_type": "code",
   "execution_count": 3,
   "source": [
    "data = pd.read_csv(\"data/plasticc_train_lightcurves.csv.gz\") \n",
    "dataMETA = pd.read_csv(\"data/plasticc_train_metadata.csv.gz\")"
   ],
   "outputs": [],
   "metadata": {}
  },
  {
   "cell_type": "code",
   "execution_count": 4,
   "source": [
    "def plotObject(objectID, x0=None, x1=None, y0=None, y1=None):\n",
    "    plt.figure(figsize=(10, 3))\n",
    "    plt.xlabel(\"Time (MJD)\")\n",
    "    plt.ylabel(\"Flux\")\n",
    "\n",
    "    objData = data[\"object_id\"].isin([objectID])\n",
    "    obj = data[objData]\n",
    "    time = obj[\"mjd\"]\n",
    "    flux = obj[\"flux\"]\n",
    "\n",
    "    plt.plot(time, flux, 'o', color = \"black\")\n",
    "    if not (x0 is None) and not (x1 is None):\n",
    "        plt.xlim(x0,x1)\n",
    "    if not (y0 is None) and not (y1 is None):\n",
    "        plt.ylim(y0,y1)"
   ],
   "outputs": [],
   "metadata": {}
  },
  {
   "cell_type": "code",
   "execution_count": 5,
   "source": [
    "def multiPlotObject(objectID, x0=None, x1=None, y0=None, y1=None):\n",
    "    plt.figure(figsize=(10, 3))\n",
    "    plt.xlabel(\"Time (MJD)\")\n",
    "    plt.ylabel(\"Flux\")\n",
    "    ugrizyC = [\"purple\", \"blue\", \"green\", \"lightgreen\", \"yellow\", \"red\"]\n",
    "\n",
    "    objData = data[\"object_id\"].isin([objectID])\n",
    "    obj = data[objData]\n",
    "\n",
    "    for i in range(6):\n",
    "        objPfilt = obj[\"passband\"].isin([i])\n",
    "        objP = obj[objPfilt]\n",
    "        timeP = objP[\"mjd\"]\n",
    "        fluxP = objP[\"flux\"]\n",
    "        plt.plot(timeP,fluxP, 'o', color = ugrizyC[i])\n",
    "\n",
    "    if not (x0 is None) and not (x1 is None):\n",
    "        plt.xlim(x0,x1)\n",
    "    if not (y0 is None) and not (y1 is None):\n",
    "        plt.ylim(y0,y1)"
   ],
   "outputs": [],
   "metadata": {}
  },
  {
   "cell_type": "code",
   "execution_count": 6,
   "source": [
    "def sonification(objectID):\n",
    "\n",
    "    FEObj = pd.DataFrame()\n",
    "    \n",
    "    objData = data[\"object_id\"].isin([objectID])\n",
    "    obj = data[objData]\n",
    "    time = obj[\"mjd\"]\n",
    "    flux = obj[\"flux\"]\n",
    "\n",
    "\n",
    "    x_points = time\n",
    "    y_points = flux\n",
    "    low_note=20\n",
    "    high_note=100\n",
    "    normalized_x = sonify.core.scale_list_to_range(x_points, new_min=0, new_max=30)\n",
    "    normalized_y = sonify.core.scale_list_to_range(y_points, new_min=low_note, new_max=high_note)\n",
    "            \n",
    "    normed_data = list(zip(normalized_x, normalized_y))\n",
    "    FEObj = obj\n",
    "    sonify.play_midi_from_data(normed_data, track_type='single', key='c_major',df=FEObj)\n",
    "\n"
   ],
   "outputs": [],
   "metadata": {}
  },
  {
   "cell_type": "code",
   "execution_count": 7,
   "source": [
    "def multiSonification(objectID):\n",
    "    multiData = []\n",
    "\n",
    "    FEObj = pd.DataFrame()\n",
    "    objData = data[\"object_id\"].isin([objectID])\n",
    "    obj = data[objData]\n",
    "    \n",
    "    for i in range(6):\n",
    "        objPfilt = obj[\"passband\"].isin([i])\n",
    "        objP = obj[objPfilt]\n",
    "        timeP = objP[\"mjd\"]\n",
    "        fluxP = objP[\"flux\"]\n",
    "        scaled_x = sonify.scale_list_to_range(timeP, new_min=0, new_max=30)\n",
    "        scaled_y = sonify.scale_list_to_range(fluxP, new_min=0, new_max=30)\n",
    "        quantized_x = sonify.quantize_x_value(scaled_x)\n",
    "\n",
    "        multiData.append(list(zip(quantized_x, scaled_y)))\n",
    "    \n",
    "    instruments_to_add = [\n",
    "    'steel drums', 'rock organ', 'pizzicato strings', 'oboe', 'ocarina','violin'\n",
    "    ]\n",
    "    multiDataWIntsruments = []\n",
    "    for index, track in enumerate(multiData):\n",
    "        multiDataWIntsruments.append([instruments_to_add[index]] + track)\n",
    "    \n",
    "\n",
    "    FEObj = obj\n",
    "    sonify.play_midi_from_data(multiDataWIntsruments, track_type='multiple', key='c_major', df=FEObj)"
   ],
   "outputs": [],
   "metadata": {}
  },
  {
   "cell_type": "markdown",
   "source": [
    "# Plots and Sonification"
   ],
   "metadata": {}
  },
  {
   "cell_type": "code",
   "execution_count": null,
   "source": [
    "plotObject(5515915)"
   ],
   "outputs": [],
   "metadata": {}
  },
  {
   "cell_type": "code",
   "execution_count": null,
   "source": [
    "sonification(5515915)"
   ],
   "outputs": [],
   "metadata": {}
  },
  {
   "cell_type": "code",
   "execution_count": 8,
   "source": [
    "multiPlotObject(5515915)"
   ],
   "outputs": [
    {
     "output_type": "display_data",
     "data": {
      "text/plain": [
       "<Figure size 720x216 with 1 Axes>"
      ],
      "image/png": "[encoded data removed]"
     },
     "metadata": {
      "needs_background": "light"
     }
    }
   ],
   "metadata": {}
  },
  {
   "cell_type": "code",
   "execution_count": 9,
   "source": [
    "multiSonification(5515915)"
   ],
   "outputs": [
    {
     "output_type": "stream",
     "name": "stdout",
     "text": [
      "Volume: 85 ,  Flux Err: 10.206571\n",
      "Volume: 89 ,  Flux Err: 8.235168\n",
      "Volume: 92 ,  Flux Err: 6.166819\n",
      "Volume: 86 ,  Flux Err: 9.49455\n",
      "Volume: 92 ,  Flux Err: 5.973655\n",
      "Volume: 95 ,  Flux Err: 4.354834\n",
      "Volume: 99 ,  Flux Err: 2.287193\n",
      "Volume: 97 ,  Flux Err: 3.380521\n",
      "Volume: 100 ,  Flux Err: 1.435536\n",
      "Volume: 96 ,  Flux Err: 3.590598\n",
      "Volume: 98 ,  Flux Err: 2.720978\n",
      "Volume: 98 ,  Flux Err: 2.73497\n",
      "Volume: 99 ,  Flux Err: 2.06447\n",
      "Volume: 94 ,  Flux Err: 4.889116\n",
      "Volume: 98 ,  Flux Err: 2.410505\n",
      "Volume: 94 ,  Flux Err: 4.988728\n",
      "Volume: 99 ,  Flux Err: 2.228992\n",
      "Volume: 90 ,  Flux Err: 7.10557\n",
      "Volume: 95 ,  Flux Err: 4.321931\n",
      "Volume: 97 ,  Flux Err: 3.129865\n",
      "Volume: 97 ,  Flux Err: 3.172368\n",
      "Volume: 96 ,  Flux Err: 3.615151\n",
      "Volume: 98 ,  Flux Err: 2.918588\n",
      "Volume: 97 ,  Flux Err: 3.186694\n",
      "Volume: 94 ,  Flux Err: 4.843113\n",
      "Volume: 93 ,  Flux Err: 5.594133\n",
      "Volume: 97 ,  Flux Err: 3.362095\n",
      "Volume: 98 ,  Flux Err: 2.491624\n",
      "Volume: 95 ,  Flux Err: 4.412128\n",
      "Volume: 97 ,  Flux Err: 3.003806\n",
      "Volume: 97 ,  Flux Err: 3.190417\n",
      "Volume: 96 ,  Flux Err: 3.534199\n",
      "Volume: 96 ,  Flux Err: 3.939549\n",
      "Volume: 98 ,  Flux Err: 2.37145\n",
      "Volume: 97 ,  Flux Err: 3.096942\n",
      "Volume: 87 ,  Flux Err: 9.092724\n",
      "Volume: 90 ,  Flux Err: 7.295813\n",
      "Volume: 94 ,  Flux Err: 5.122093\n",
      "Volume: 94 ,  Flux Err: 4.779237\n",
      "Volume: 96 ,  Flux Err: 3.943829\n",
      "Volume: 93 ,  Flux Err: 5.457634\n",
      "Volume: 95 ,  Flux Err: 4.302189\n",
      "Volume: 95 ,  Flux Err: 4.44125\n",
      "Volume: 93 ,  Flux Err: 5.853629\n",
      "Volume: 86 ,  Flux Err: 9.517523\n",
      "Volume: 89 ,  Flux Err: 8.14496\n",
      "Volume: 85 ,  Flux Err: 10.238858\n",
      "Volume: 90 ,  Flux Err: 7.422689\n",
      "Volume: 76 ,  Flux Err: 15.442598\n",
      "Volume: 90 ,  Flux Err: 7.111253\n",
      "Volume: 76 ,  Flux Err: 15.614139\n",
      "Volume: 76 ,  Flux Err: 15.791862\n",
      "Volume: 90 ,  Flux Err: 7.331855\n",
      "Volume: 86 ,  Flux Err: 9.67523\n",
      "Volume: 77 ,  Flux Err: 15.283041\n",
      "Volume: 80 ,  Flux Err: 13.424219\n",
      "Volume: 75 ,  Flux Err: 16.307657\n",
      "Volume: 82 ,  Flux Err: 12.384162\n",
      "Volume: 77 ,  Flux Err: 14.916623\n",
      "Volume: 54 ,  Flux Err: 28.817425\n",
      "Volume: 80 ,  Flux Err: 13.201795\n",
      "Volume: 78 ,  Flux Err: 14.504735\n",
      "Volume: 84 ,  Flux Err: 10.972744\n",
      "Volume: 79 ,  Flux Err: 14.070016\n",
      "Volume: 77 ,  Flux Err: 15.256488\n",
      "Volume: 64 ,  Flux Err: 22.739698\n",
      "Volume: 75 ,  Flux Err: 16.51676\n",
      "Volume: 82 ,  Flux Err: 12.048758\n",
      "Volume: 72 ,  Flux Err: 18.010527\n",
      "Volume: 89 ,  Flux Err: 8.182162\n",
      "Volume: 82 ,  Flux Err: 12.146034\n",
      "Volume: 33 ,  Flux Err: 41.462578\n",
      "Volume: 15 ,  Flux Err: 51.989883\n",
      "Volume: 41 ,  Flux Err: 36.665226\n",
      "Volume: 73 ,  Flux Err: 17.617054\n",
      "Volume: 63 ,  Flux Err: 23.281775\n",
      "Volume: 46 ,  Flux Err: 33.65049\n",
      "Volume: 48 ,  Flux Err: 32.040874\n",
      "Volume: 46 ,  Flux Err: 33.236473\n",
      "Volume: 68 ,  Flux Err: 20.729446\n",
      "Volume: 65 ,  Flux Err: 22.467257\n",
      "Volume: 44 ,  Flux Err: 34.434307\n",
      "Volume: 64 ,  Flux Err: 22.714958\n",
      "Volume: 55 ,  Flux Err: 28.058762\n",
      "Volume: 15 ,  Flux Err: 51.638329\n",
      "Volume: 25 ,  Flux Err: 45.71534\n",
      "Volume: 39 ,  Flux Err: 37.942474\n",
      "Volume: 63 ,  Flux Err: 23.589729\n",
      "Volume: 35 ,  Flux Err: 40.302071\n",
      "Volume: 43 ,  Flux Err: 35.485813\n",
      "Volume: 1 ,  Flux Err: 60.243076\n",
      "Volume: 45 ,  Flux Err: 34.214592\n",
      "Volume: 53 ,  Flux Err: 29.334679\n",
      "Volume: 56 ,  Flux Err: 27.442833\n",
      "Volume: 69 ,  Flux Err: 20.039351\n",
      "Volume: 24 ,  Flux Err: 46.726318\n",
      "Volume: 56 ,  Flux Err: 27.811602\n",
      "Volume: 25 ,  Flux Err: 45.902306\n",
      "Volume: 67 ,  Flux Err: 20.975512\n",
      "Volume: 46 ,  Flux Err: 33.503445\n",
      "Volume: 43 ,  Flux Err: 35.08651\n",
      "Volume: 56 ,  Flux Err: 27.643858\n",
      "Volume: 45 ,  Flux Err: 34.226597\n",
      "Done playing!\n"
     ]
    }
   ],
   "metadata": {}
  },
  {
   "cell_type": "markdown",
   "source": [
    "----"
   ],
   "metadata": {}
  },
  {
   "cell_type": "code",
   "execution_count": null,
   "source": [
    "plotObject(287556)"
   ],
   "outputs": [],
   "metadata": {}
  },
  {
   "cell_type": "code",
   "execution_count": null,
   "source": [
    "sonification(287556)"
   ],
   "outputs": [],
   "metadata": {}
  },
  {
   "cell_type": "code",
   "execution_count": null,
   "source": [
    "multiPlotObject(287556)"
   ],
   "outputs": [],
   "metadata": {}
  },
  {
   "cell_type": "code",
   "execution_count": null,
   "source": [
    "multiSonification(287556)"
   ],
   "outputs": [],
   "metadata": {}
  }
 ],
 "metadata": {
  "orig_nbformat": 4,
  "language_info": {
   "name": "python",
   "version": "3.9.5",
   "mimetype": "text/x-python",
   "codemirror_mode": {
    "name": "ipython",
    "version": 3
   },
   "pygments_lexer": "ipython3",
   "nbconvert_exporter": "python",
   "file_extension": ".py"
  },
  "kernelspec": {
   "name": "python3",
   "display_name": "Python 3.9.5 64-bit ('3.9')"
  },
  "interpreter": {
   "hash": "7812ea015bdcee6f23a998adcdd2ef97c151c0c241b7b7070987d9313e41299d"
  }
 },
 "nbformat": 4,
 "nbformat_minor": 2
}