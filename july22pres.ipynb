{
 "metadata": {
  "language_info": {
   "codemirror_mode": {
    "name": "ipython",
    "version": 3
   },
   "file_extension": ".py",
   "mimetype": "text/x-python",
   "name": "python",
   "nbconvert_exporter": "python",
   "pygments_lexer": "ipython3",
   "version": "3.9.5"
  },
  "orig_nbformat": 4,
  "kernelspec": {
   "name": "python3",
   "display_name": "Python 3.9.5 64-bit ('3.9')"
  },
  "interpreter": {
   "hash": "7812ea015bdcee6f23a998adcdd2ef97c151c0c241b7b7070987d9313e41299d"
  }
 },
 "nbformat": 4,
 "nbformat_minor": 2,
 "cells": [
  {
   "cell_type": "markdown",
   "source": [
    "# Code"
   ],
   "metadata": {}
  },
  {
   "cell_type": "code",
   "execution_count": null,
   "source": [
    "!pip install midiutil\n",
    "!pip install pygame\n",
    "!pip install pretty_midi"
   ],
   "outputs": [],
   "metadata": {}
  },
  {
   "cell_type": "code",
   "execution_count": null,
   "source": [
    "import sonify\n",
    "import matplotlib.pyplot as plt\n",
    "import numpy as np\n",
    "import pandas as pd\n",
    "from midiutil import MIDIFile"
   ],
   "outputs": [],
   "metadata": {}
  },
  {
   "cell_type": "code",
   "execution_count": null,
   "source": [
    "from importlib import reload\n",
    "reload(sonify)"
   ],
   "outputs": [],
   "metadata": {}
  },
  {
   "cell_type": "code",
   "execution_count": null,
   "source": [
    "data = pd.read_csv(\"data/plasticc_train_lightcurves.csv.gz\") \n",
    "dataMETA = pd.read_csv(\"data/plasticc_train_metadata.csv.gz\")\n"
   ],
   "outputs": [],
   "metadata": {}
  },
  {
   "cell_type": "code",
   "execution_count": null,
   "source": [
    "snFilt = dataMETA[\"true_target\"].isin([62])\n",
    "allSNIBC = dataMETA[snFilt]\n",
    "idSNIBC = allSNIBC[\"object_id\"].to_list()\n",
    "filtData = data[\"object_id\"].isin(idSNIBC)\n",
    "SNIBCinData = data[filtData]\n",
    "\n",
    "ebFilt = dataMETA[\"true_target\"].isin([16])\n",
    "allEB = dataMETA[ebFilt]\n",
    "idEB = allEB['object_id'].to_list()\n",
    "filtDataEB = data[\"object_id\"].isin(idEB)\n",
    "EBinData = data[filtDataEB]"
   ],
   "outputs": [],
   "metadata": {}
  },
  {
   "cell_type": "code",
   "execution_count": null,
   "source": [
    "snMidList = []\n",
    "for i in range(len(idSNIBC)):\n",
    "    objData = SNIBCinData[\"object_id\"].isin([idSNIBC[i]])\n",
    "    obj = SNIBCinData[objData]\n",
    "\n",
    "    idObj = obj[\"object_id\"].values[0]\n",
    "    maxFluxRow = obj[\"flux\"].argmax()\n",
    "    maxFlux = obj[\"flux\"].values[maxFluxRow]\n",
    "\n",
    "    gap = obj.loc[(obj['mjd'] >= 59900) & (obj['mjd'] <= 60100)]\n",
    "\n",
    "    if gap.isin([maxFlux]).any().any() == True:\n",
    "        snMidList.append(idObj)"
   ],
   "outputs": [],
   "metadata": {}
  },
  {
   "cell_type": "code",
   "execution_count": 14,
   "source": [
    "def plotObject(objectID, x0=None, x1=None, y0=None, y1=None):\n",
    "    plt.figure(figsize=(10, 3))\n",
    "    plt.xlabel(\"Time (MJD)\")\n",
    "    plt.ylabel(\"Flux\")\n",
    "    if allSNIBC.isin([objectID]).any().any() == True:\n",
    "        objData = SNIBCinData[\"object_id\"].isin([objectID])\n",
    "        objFiltered = SNIBCinData[objData]\n",
    "        timeValue = objFiltered[\"mjd\"]\n",
    "        fluxValue = objFiltered[\"flux\"]\n",
    "        plt.plot(timeValue, fluxValue, 'o', color = \"black\")\n",
    "        if not (x0 is None) and not (x1 is None):\n",
    "            plt.xlim(x0,x1)\n",
    "        if not (y0 is None) and not (y1 is None):\n",
    "            plt.ylim(y0,y1)\n",
    "\n",
    "    if allEB.isin([objectID]).any().any() == True:\n",
    "        objData = EBinData[\"object_id\"].isin([objectID])\n",
    "        objFiltered = EBinData[objData]\n",
    "        timeValue = objFiltered[\"mjd\"]\n",
    "        fluxValue = objFiltered[\"flux\"]\n",
    "        plt.plot(timeValue, fluxValue, 'o', color = \"black\")\n",
    "        if not (x0 is None) and not (x1 is None):\n",
    "            plt.xlim(x0,x1)\n",
    "        if not (y0 is None) and not (y1 is None):\n",
    "            plt.ylim(y0,y1)"
   ],
   "outputs": [],
   "metadata": {}
  },
  {
   "cell_type": "code",
   "execution_count": 15,
   "source": [
    "def multiPlotObject(objectID):\n",
    "\n",
    "    plt.figure(figsize=(10, 3))\n",
    "    ugrizyC = [\"purple\", \"blue\", \"green\", \"lightgreen\", \"yellow\", \"red\"]\n",
    "\n",
    "    if allSNIBC.isin([objectID]).any().any() == True:\n",
    "        for i in range(6):\n",
    "            objData = SNIBCinData[\"object_id\"].isin([objectID])\n",
    "            objFiltered = SNIBCinData[objData]\n",
    "\n",
    "            objPfilt = objFiltered[\"passband\"].isin([i])\n",
    "            objP = objFiltered[objPfilt]\n",
    "            timeValue = objP[\"mjd\"]\n",
    "            fluxValue = objP[\"flux\"]\n",
    "            plt.plot(timeValue,fluxValue, 'o', color = ugrizyC[i])\n",
    "\n",
    "    if allEB.isin([objectID]).any().any() == True:\n",
    "        for i in range(6):\n",
    "            objData = EBinData[\"object_id\"].isin([objectID])\n",
    "            objFiltered = EBinData[objData]\n",
    "\n",
    "            objPfilt = objFiltered[\"passband\"].isin([i])\n",
    "            objP = objFiltered[objPfilt]\n",
    "            timeValue = objP[\"mjd\"]\n",
    "            fluxValue = objP[\"flux\"]\n",
    "            plt.plot(timeValue,fluxValue, 'o', color = ugrizyC[i])\n",
    "\n",
    "\n",
    "\n",
    "    plt.title(\"ugrizy\")\n",
    "    plt.xlabel(\"Time (MJD)\")\n",
    "    plt.ylabel(\"Flux\")"
   ],
   "outputs": [],
   "metadata": {}
  },
  {
   "cell_type": "code",
   "execution_count": 16,
   "source": [
    "def sonification(objectID):\n",
    "\n",
    "\n",
    "    if allSNIBC.isin([objectID]).any().any() == True:\n",
    "        objData = SNIBCinData[\"object_id\"].isin([objectID])\n",
    "        objFiltered = SNIBCinData[objData]\n",
    "        timeValue = objFiltered[\"mjd\"]\n",
    "        fluxValue = objFiltered[\"flux\"]\n",
    "\n",
    "\n",
    "        x_points = timeValue\n",
    "        y_points = fluxValue\n",
    "        low_note=20\n",
    "        high_note=100\n",
    "        normalized_x = sonify.core.scale_list_to_range(x_points, new_min=0, new_max=30)\n",
    "        normalized_y = sonify.core.scale_list_to_range(y_points, new_min=low_note, new_max=high_note)\n",
    "                \n",
    "        normed_data = list(zip(normalized_x, normalized_y))\n",
    "        sonify.play_midi_from_data(normed_data, track_type='single', key='c_major')\n",
    "\n",
    "    if allEB.isin([objectID]).any().any() == True:\n",
    "        objData = EBinData[\"object_id\"].isin([objectID])\n",
    "        objFiltered = EBinData[objData]\n",
    "        timeValue = objFiltered[\"mjd\"]\n",
    "        fluxValue = objFiltered[\"flux\"]\n",
    "\n",
    "\n",
    "        x_points = timeValue\n",
    "        y_points = fluxValue\n",
    "        low_note=20\n",
    "        high_note=100\n",
    "        normalized_x = sonify.core.scale_list_to_range(x_points, new_min=0, new_max=30)\n",
    "        normalized_y = sonify.core.scale_list_to_range(y_points, new_min=low_note, new_max=high_note)\n",
    "                \n",
    "        normed_data = list(zip(normalized_x, normalized_y))\n",
    "        sonify.play_midi_from_data(normed_data, track_type='single', key='c_major')\n",
    "\n"
   ],
   "outputs": [],
   "metadata": {}
  },
  {
   "cell_type": "code",
   "execution_count": 17,
   "source": [
    "def multiSonification(objectID):\n",
    "    multiData = []\n",
    "\n",
    "    if allSNIBC.isin([objectID]).any().any() == True:\n",
    "        for i in range(6):\n",
    "            objData = SNIBCinData[\"object_id\"].isin([objectID])\n",
    "            objFiltered = SNIBCinData[objData]\n",
    "            objPfilt = objFiltered[\"passband\"].isin([i])\n",
    "            objP = objFiltered[objPfilt]\n",
    "            timeValue = objP[\"mjd\"]\n",
    "            fluxValue = objP[\"flux\"]\n",
    "            scaled_x = sonify.scale_list_to_range(timeValue, new_min=0, new_max=30)\n",
    "            scaled_y = sonify.scale_list_to_range(fluxValue, new_min=0, new_max=30)\n",
    "            quantized_x = sonify.quantize_x_value(scaled_x)\n",
    "            multiData.append(list(zip(quantized_x, scaled_y)))\n",
    "    \n",
    "\n",
    "    if allEB.isin([objectID]).any().any() == True:\n",
    "        for i in range(6):\n",
    "            objData = EBinData[\"object_id\"].isin([objectID])\n",
    "            objFiltered = EBinData[objData]\n",
    "            objPfilt = objFiltered[\"passband\"].isin([i])\n",
    "            objP = objFiltered[objPfilt]\n",
    "            timeValue = objP[\"mjd\"]\n",
    "            fluxValue = objP[\"flux\"]\n",
    "            scaled_x = sonify.scale_list_to_range(timeValue, new_min=0, new_max=30)\n",
    "            scaled_y = sonify.scale_list_to_range(fluxValue, new_min=0, new_max=30)\n",
    "            quantized_x = sonify.quantize_x_value(scaled_x)\n",
    "            multiData.append(list(zip(quantized_x, scaled_y)))\n",
    "    \n",
    "    \n",
    "    instruments_to_add = [\n",
    "    'steel drums', 'rock organ', 'pizzicato strings', 'oboe', 'ocarina','violin'\n",
    "    ]\n",
    "    multiDataWIntsruments = []\n",
    "    for index, track in enumerate(multiData):\n",
    "        multiDataWIntsruments.append([instruments_to_add[index]] + track)\n",
    "    \n",
    "    sonify.play_midi_from_data(multiDataWIntsruments, track_type='multiple', key='c_major')\n",
    "\n"
   ],
   "outputs": [],
   "metadata": {}
  },
  {
   "cell_type": "markdown",
   "source": [
    "# Plots and Sonifications"
   ],
   "metadata": {}
  },
  {
   "cell_type": "markdown",
   "source": [
    "## Supernova Type Ibc:"
   ],
   "metadata": {}
  },
  {
   "cell_type": "markdown",
   "source": [
    "----"
   ],
   "metadata": {}
  },
  {
   "cell_type": "code",
   "execution_count": null,
   "source": [
    "plotObject(287556)"
   ],
   "outputs": [],
   "metadata": {}
  },
  {
   "cell_type": "code",
   "execution_count": null,
   "source": [
    "sonification(287556)"
   ],
   "outputs": [],
   "metadata": {}
  },
  {
   "cell_type": "code",
   "execution_count": null,
   "source": [
    "multiPlotObject(287556)"
   ],
   "outputs": [],
   "metadata": {}
  },
  {
   "cell_type": "code",
   "execution_count": null,
   "source": [
    "multiSonification(287556)"
   ],
   "outputs": [],
   "metadata": {}
  },
  {
   "cell_type": "markdown",
   "source": [
    "----"
   ],
   "metadata": {}
  },
  {
   "cell_type": "code",
   "execution_count": null,
   "source": [
    "plotObject(119647)"
   ],
   "outputs": [],
   "metadata": {}
  },
  {
   "cell_type": "code",
   "execution_count": null,
   "source": [
    "sonification(119647)"
   ],
   "outputs": [],
   "metadata": {}
  },
  {
   "cell_type": "code",
   "execution_count": null,
   "source": [
    "multiPlotObject(119647)"
   ],
   "outputs": [],
   "metadata": {}
  },
  {
   "cell_type": "code",
   "execution_count": null,
   "source": [
    "multiSonification(119647)"
   ],
   "outputs": [],
   "metadata": {}
  },
  {
   "cell_type": "markdown",
   "source": [
    "----"
   ],
   "metadata": {}
  },
  {
   "cell_type": "code",
   "execution_count": null,
   "source": [
    "plotObject(5515915)"
   ],
   "outputs": [],
   "metadata": {}
  },
  {
   "cell_type": "code",
   "execution_count": null,
   "source": [
    "sonification(5515915)"
   ],
   "outputs": [],
   "metadata": {}
  },
  {
   "cell_type": "code",
   "execution_count": null,
   "source": [
    "multiPlotObject(5515915)"
   ],
   "outputs": [],
   "metadata": {}
  },
  {
   "cell_type": "code",
   "execution_count": null,
   "source": [
    "multiSonification(5515915)"
   ],
   "outputs": [],
   "metadata": {}
  },
  {
   "cell_type": "markdown",
   "source": [
    "----"
   ],
   "metadata": {}
  },
  {
   "cell_type": "markdown",
   "source": [
    "## Eclipsing Binary stars"
   ],
   "metadata": {}
  },
  {
   "cell_type": "markdown",
   "source": [
    "----"
   ],
   "metadata": {}
  },
  {
   "cell_type": "code",
   "execution_count": 18,
   "source": [
    "plotObject(7566)"
   ],
   "outputs": [
    {
     "output_type": "display_data",
     "data": {
      "text/plain": [
       "<Figure size 720x216 with 1 Axes>"
      ],
      "image/png": "[encoded data removed]"
     },
     "metadata": {
      "needs_background": "light"
     }
    }
   ],
   "metadata": {}
  },
  {
   "cell_type": "code",
   "execution_count": null,
   "source": [
    "sonification(7566)"
   ],
   "outputs": [],
   "metadata": {}
  },
  {
   "cell_type": "code",
   "execution_count": 19,
   "source": [
    "multiPlotObject(7566)"
   ],
   "outputs": [
    {
     "output_type": "display_data",
     "data": {
      "text/plain": [
       "<Figure size 720x216 with 1 Axes>"
      ],
      "image/png": "[encoded data removed]"
     },
     "metadata": {
      "needs_background": "light"
     }
    }
   ],
   "metadata": {}
  },
  {
   "cell_type": "code",
   "execution_count": null,
   "source": [
    "multiSonification(7566)"
   ],
   "outputs": [],
   "metadata": {}
  },
  {
   "cell_type": "markdown",
   "source": [
    "----"
   ],
   "metadata": {}
  },
  {
   "cell_type": "code",
   "execution_count": null,
   "source": [
    "plotObject(45203)"
   ],
   "outputs": [],
   "metadata": {}
  },
  {
   "cell_type": "code",
   "execution_count": null,
   "source": [
    "sonification(45203)"
   ],
   "outputs": [],
   "metadata": {}
  },
  {
   "cell_type": "code",
   "execution_count": null,
   "source": [
    "multiPlotObject(45203)"
   ],
   "outputs": [],
   "metadata": {}
  },
  {
   "cell_type": "code",
   "execution_count": null,
   "source": [
    "multiSonification(45203)"
   ],
   "outputs": [],
   "metadata": {}
  },
  {
   "cell_type": "markdown",
   "source": [
    "----"
   ],
   "metadata": {}
  }
 ]
}