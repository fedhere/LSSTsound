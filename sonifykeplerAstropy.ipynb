{
 "cells": [
  {
   "cell_type": "markdown",
   "metadata": {},
   "source": [
    "# astrofy example time series sonification: NOTE: does not run on colab"
   ]
  },
  {
   "cell_type": "code",
   "execution_count": 1,
   "metadata": {
    "ExecuteTime": {
     "end_time": "2021-06-14T04:11:43.000188Z",
     "start_time": "2021-06-14T04:11:40.208227Z"
    },
    "colab": {
     "base_uri": "https://localhost:8080/"
    },
    "id": "4_8cs51DrIk_",
    "outputId": "5594aadb-91de-47f9-bc0e-3e952c47924f"
   },
   "outputs": [
    {
     "name": "stdout",
     "output_type": "stream",
     "text": [
      "Requirement already satisfied: astronify in /Users/fbb/anaconda3/lib/python3.7/site-packages (0.1)\n",
      "Requirement already satisfied: thinkx in /Users/fbb/anaconda3/lib/python3.7/site-packages (from astronify) (1.1.3)\n",
      "Requirement already satisfied: astropy in /Users/fbb/anaconda3/lib/python3.7/site-packages (from astronify) (3.1.2)\n",
      "Requirement already satisfied: pyo in /Users/fbb/anaconda3/lib/python3.7/site-packages (from astronify) (1.0.3)\n",
      "Requirement already satisfied: scipy in /Users/fbb/anaconda3/lib/python3.7/site-packages (from thinkx->astronify) (1.1.0)\n",
      "Requirement already satisfied: markdown in /Users/fbb/anaconda3/lib/python3.7/site-packages (from thinkx->astronify) (3.2.1)\n",
      "Requirement already satisfied: numpy in /Users/fbb/anaconda3/lib/python3.7/site-packages (from thinkx->astronify) (1.14.6)\n",
      "Requirement already satisfied: matplotlib in /Users/fbb/anaconda3/lib/python3.7/site-packages (from thinkx->astronify) (3.0.3)\n",
      "Requirement already satisfied: pandas in /Users/fbb/anaconda3/lib/python3.7/site-packages (from thinkx->astronify) (0.24.2)\n",
      "Requirement already satisfied: setuptools>=36 in /Users/fbb/anaconda3/lib/python3.7/site-packages (from markdown->thinkx->astronify) (45.2.0)\n",
      "Requirement already satisfied: cycler>=0.10 in /Users/fbb/anaconda3/lib/python3.7/site-packages (from matplotlib->thinkx->astronify) (0.10.0)\n",
      "Requirement already satisfied: kiwisolver>=1.0.1 in /Users/fbb/anaconda3/lib/python3.7/site-packages (from matplotlib->thinkx->astronify) (1.0.1)\n",
      "Requirement already satisfied: pyparsing!=2.0.4,!=2.1.2,!=2.1.6,>=2.0.1 in /Users/fbb/anaconda3/lib/python3.7/site-packages (from matplotlib->thinkx->astronify) (2.3.1)\n",
      "Requirement already satisfied: python-dateutil>=2.1 in /Users/fbb/anaconda3/lib/python3.7/site-packages (from matplotlib->thinkx->astronify) (2.8.0)\n",
      "Requirement already satisfied: pytz>=2011k in /Users/fbb/anaconda3/lib/python3.7/site-packages (from pandas->thinkx->astronify) (2018.9)\n",
      "Requirement already satisfied: six in /Users/fbb/anaconda3/lib/python3.7/site-packages (from cycler>=0.10->matplotlib->thinkx->astronify) (1.12.0)\n"
     ]
    }
   ],
   "source": [
    "!pip install astronify"
   ]
  },
  {
   "cell_type": "code",
   "execution_count": 2,
   "metadata": {
    "ExecuteTime": {
     "end_time": "2021-06-14T04:11:45.596885Z",
     "start_time": "2021-06-14T04:11:43.024483Z"
    },
    "colab": {
     "base_uri": "https://localhost:8080/"
    },
    "id": "h8BdweJQrSx7",
    "outputId": "f791b196-0301-4d36-b0ae-752598a44957"
   },
   "outputs": [
    {
     "name": "stdout",
     "output_type": "stream",
     "text": [
      "Requirement already satisfied: lightkurve in /Users/fbb/anaconda3/lib/python3.7/site-packages (1.1.0)\n",
      "Requirement already satisfied: tqdm in /Users/fbb/anaconda3/lib/python3.7/site-packages (from lightkurve) (4.31.1)\n",
      "Requirement already satisfied: uncertainties in /Users/fbb/anaconda3/lib/python3.7/site-packages (from lightkurve) (3.1.1)\n",
      "Requirement already satisfied: astroquery>=0.3.9 in /Users/fbb/anaconda3/lib/python3.7/site-packages (from lightkurve) (0.3.9)\n",
      "Requirement already satisfied: pandas in /Users/fbb/anaconda3/lib/python3.7/site-packages (from lightkurve) (0.24.2)\n",
      "Requirement already satisfied: bs4 in /Users/fbb/anaconda3/lib/python3.7/site-packages (from lightkurve) (0.0.1)\n",
      "Requirement already satisfied: requests in /Users/fbb/anaconda3/lib/python3.7/site-packages (from lightkurve) (2.21.0)\n",
      "Requirement already satisfied: scipy>=0.19.0 in /Users/fbb/anaconda3/lib/python3.7/site-packages (from lightkurve) (1.1.0)\n",
      "Requirement already satisfied: astropy>=1.3 in /Users/fbb/anaconda3/lib/python3.7/site-packages (from lightkurve) (3.1.2)\n",
      "Requirement already satisfied: oktopus in /Users/fbb/anaconda3/lib/python3.7/site-packages (from lightkurve) (0.1.2)\n",
      "Requirement already satisfied: numpy>=1.11 in /Users/fbb/anaconda3/lib/python3.7/site-packages (from lightkurve) (1.14.6)\n",
      "Requirement already satisfied: matplotlib>=1.5.3 in /Users/fbb/anaconda3/lib/python3.7/site-packages (from lightkurve) (3.0.3)\n",
      "Requirement already satisfied: keyring>=4.0 in /Users/fbb/anaconda3/lib/python3.7/site-packages (from astroquery>=0.3.9->lightkurve) (18.0.0)\n",
      "Requirement already satisfied: beautifulsoup4>=4.3.2 in /Users/fbb/anaconda3/lib/python3.7/site-packages (from astroquery>=0.3.9->lightkurve) (4.7.1)\n",
      "Requirement already satisfied: html5lib>=0.999 in /Users/fbb/anaconda3/lib/python3.7/site-packages (from astroquery>=0.3.9->lightkurve) (1.0.1)\n",
      "Requirement already satisfied: pytz>=2011k in /Users/fbb/anaconda3/lib/python3.7/site-packages (from pandas->lightkurve) (2018.9)\n",
      "Requirement already satisfied: python-dateutil>=2.5.0 in /Users/fbb/anaconda3/lib/python3.7/site-packages (from pandas->lightkurve) (2.8.0)\n",
      "Requirement already satisfied: chardet<3.1.0,>=3.0.2 in /Users/fbb/anaconda3/lib/python3.7/site-packages (from requests->lightkurve) (3.0.4)\n",
      "Requirement already satisfied: idna<2.9,>=2.5 in /Users/fbb/anaconda3/lib/python3.7/site-packages (from requests->lightkurve) (2.8)\n",
      "Requirement already satisfied: certifi>=2017.4.17 in /Users/fbb/anaconda3/lib/python3.7/site-packages (from requests->lightkurve) (2019.3.9)\n",
      "Requirement already satisfied: urllib3<1.25,>=1.21.1 in /Users/fbb/anaconda3/lib/python3.7/site-packages (from requests->lightkurve) (1.24.1)\n",
      "Requirement already satisfied: autograd in /Users/fbb/anaconda3/lib/python3.7/site-packages (from oktopus->lightkurve) (1.2)\n",
      "Requirement already satisfied: cycler>=0.10 in /Users/fbb/anaconda3/lib/python3.7/site-packages (from matplotlib>=1.5.3->lightkurve) (0.10.0)\n",
      "Requirement already satisfied: kiwisolver>=1.0.1 in /Users/fbb/anaconda3/lib/python3.7/site-packages (from matplotlib>=1.5.3->lightkurve) (1.0.1)\n",
      "Requirement already satisfied: pyparsing!=2.0.4,!=2.1.2,!=2.1.6,>=2.0.1 in /Users/fbb/anaconda3/lib/python3.7/site-packages (from matplotlib>=1.5.3->lightkurve) (2.3.1)\n",
      "Requirement already satisfied: entrypoints in /Users/fbb/anaconda3/lib/python3.7/site-packages (from keyring>=4.0->astroquery>=0.3.9->lightkurve) (0.3)\n",
      "Requirement already satisfied: soupsieve>=1.2 in /Users/fbb/anaconda3/lib/python3.7/site-packages (from beautifulsoup4>=4.3.2->astroquery>=0.3.9->lightkurve) (1.8)\n",
      "Requirement already satisfied: webencodings in /Users/fbb/anaconda3/lib/python3.7/site-packages (from html5lib>=0.999->astroquery>=0.3.9->lightkurve) (0.5.1)\n",
      "Requirement already satisfied: six>=1.9 in /Users/fbb/anaconda3/lib/python3.7/site-packages (from html5lib>=0.999->astroquery>=0.3.9->lightkurve) (1.12.0)\n",
      "Requirement already satisfied: future>=0.15.2 in /Users/fbb/anaconda3/lib/python3.7/site-packages (from autograd->oktopus->lightkurve) (0.17.1)\n",
      "Requirement already satisfied: setuptools in /Users/fbb/anaconda3/lib/python3.7/site-packages (from kiwisolver>=1.0.1->matplotlib>=1.5.3->lightkurve) (45.2.0)\n"
     ]
    }
   ],
   "source": [
    "!pip install lightkurve"
   ]
  },
  {
   "cell_type": "code",
   "execution_count": 3,
   "metadata": {
    "ExecuteTime": {
     "end_time": "2021-06-14T04:11:48.910377Z",
     "start_time": "2021-06-14T04:11:46.171384Z"
    },
    "colab": {
     "base_uri": "https://localhost:8080/"
    },
    "id": "VsgCP2w_rCdk",
    "outputId": "1dd51bd7-ae1e-4ad0-cb0c-f72c3789880c"
   },
   "outputs": [
    {
     "name": "stdout",
     "output_type": "stream",
     "text": [
      "\n",
      "WxPython is not found for the current python version.\n",
      "Pyo will use a minimal GUI toolkit written with Tkinter (if available).\n",
      "This toolkit has limited functionnalities and is no more\n",
      "maintained or updated. If you want to use all of pyo's\n",
      "GUI features, you should install WxPython, available here:\n",
      "http://www.wxpython.org/\n",
      "\n"
     ]
    }
   ],
   "source": [
    "from astronify.series import SoniSeries\n",
    "import lightkurve\n",
    "import matplotlib\n",
    "import matplotlib.pyplot as plt"
   ]
  },
  {
   "cell_type": "code",
   "execution_count": 4,
   "metadata": {
    "ExecuteTime": {
     "end_time": "2021-06-14T04:11:56.800873Z",
     "start_time": "2021-06-14T04:11:48.911828Z"
    },
    "colab": {
     "base_uri": "https://localhost:8080/"
    },
    "id": "gOt-d7YerEuF",
    "outputId": "bd7a394c-b5bf-4ed1-ade9-b45a2782d49b"
   },
   "outputs": [],
   "source": [
    "kep12b_lc = lightkurve.search_lightcurvefile(\"KIC 11804465\", cadence=\"long\", quarter=1).download_all()[0].SAP_FLUX.to_table()\n"
   ]
  },
  {
   "cell_type": "code",
   "execution_count": 5,
   "metadata": {
    "ExecuteTime": {
     "end_time": "2021-06-14T04:11:58.430821Z",
     "start_time": "2021-06-14T04:11:58.278672Z"
    },
    "colab": {
     "base_uri": "https://localhost:8080/",
     "height": 388
    },
    "id": "bw5O08JorZmr",
    "outputId": "4fe19126-0f75-422b-b651-c5e7ef62caff"
   },
   "outputs": [
    {
     "data": {
      "image/png": "[encoded data removed]",
      "text/plain": [
       "<Figure size 864x432 with 1 Axes>"
      ]
     },
     "metadata": {
      "needs_background": "light"
     },
     "output_type": "display_data"
    }
   ],
   "source": [
    "f, ax = plt.subplots(figsize=(12, 6))\n",
    "ax.plot(kep12b_lc['time'].jd, kep12b_lc['flux'])\n",
    "ax.set_xlabel(\"Time (JD)\")\n",
    "ax.set_ylabel(\"Flux\")\n",
    "\n",
    "plt.show()"
   ]
  },
  {
   "cell_type": "code",
   "execution_count": 6,
   "metadata": {
    "ExecuteTime": {
     "end_time": "2021-06-14T04:11:59.393298Z",
     "start_time": "2021-06-14T04:11:59.384488Z"
    },
    "id": "1sALzMzNrbsF"
   },
   "outputs": [],
   "source": [
    "kep12b_obj = SoniSeries(kep12b_lc)"
   ]
  },
  {
   "cell_type": "code",
   "execution_count": 7,
   "metadata": {
    "ExecuteTime": {
     "end_time": "2021-06-14T04:12:00.216513Z",
     "start_time": "2021-06-14T04:12:00.158110Z"
    },
    "id": "zrnjGdBjrf-_"
   },
   "outputs": [
    {
     "name": "stderr",
     "output_type": "stream",
     "text": [
      "/Users/fbb/anaconda3/lib/python3.7/site-packages/numpy/core/fromnumeric.py:664: UserWarning: Warning: 'partition' will ignore the 'mask' of the MaskedColumn.\n",
      "  a.partition(kth, axis=axis, kind=kind, order=order)\n"
     ]
    }
   ],
   "source": [
    "kep12b_obj.sonify()"
   ]
  },
  {
   "cell_type": "code",
   "execution_count": 8,
   "metadata": {
    "ExecuteTime": {
     "end_time": "2021-06-14T04:12:04.074531Z",
     "start_time": "2021-06-14T04:12:01.355330Z"
    },
    "id": "sBKb6sJwrhbP"
   },
   "outputs": [
    {
     "name": "stdout",
     "output_type": "stream",
     "text": [
      "Pyo warning: Portaudio input device `MacBook Pro Microphone` has fewer channels (1) than requested (2).\n",
      "Pyo warning: Portmidi warning: no midi device found!\n",
      "Portmidi closed.\n"
     ]
    }
   ],
   "source": [
    "kep12b_obj.play()"
   ]
  },
  {
   "cell_type": "code",
   "execution_count": 10,
   "metadata": {
    "ExecuteTime": {
     "end_time": "2021-06-14T04:12:22.866842Z",
     "start_time": "2021-06-14T04:12:22.863859Z"
    },
    "id": "4C9-BMDJrjbm"
   },
   "outputs": [],
   "source": [
    "kep12b_obj.stop()"
   ]
  },
  {
   "cell_type": "code",
   "execution_count": 11,
   "metadata": {
    "ExecuteTime": {
     "end_time": "2021-06-14T04:13:49.268936Z",
     "start_time": "2021-06-14T04:13:48.638305Z"
    },
    "id": "ocq0W716tGyT"
   },
   "outputs": [
    {
     "name": "stderr",
     "output_type": "stream",
     "text": [
      "/Users/fbb/anaconda3/lib/python3.7/site-packages/numpy/core/fromnumeric.py:664: UserWarning: Warning: 'partition' will ignore the 'mask' of the MaskedColumn.\n",
      "  a.partition(kth, axis=axis, kind=kind, order=order)\n"
     ]
    },
    {
     "name": "stdout",
     "output_type": "stream",
     "text": [
      "Pyo warning: Portmidi warning: no midi device found!\n",
      "Portmidi closed.\n"
     ]
    }
   ],
   "source": [
    "#change pitch \n",
    "kep12b_obj.pitch_mapper.pitch_map_args[\"center_pitch\"] = 880\n",
    "\n",
    "kep12b_obj.sonify()\n",
    "kep12b_obj.play()"
   ]
  },
  {
   "cell_type": "code",
   "execution_count": 12,
   "metadata": {
    "ExecuteTime": {
     "end_time": "2021-06-14T04:14:08.919397Z",
     "start_time": "2021-06-14T04:14:08.916466Z"
    }
   },
   "outputs": [],
   "source": [
    "kep12b_obj.stop()\n",
    "#reset\n",
    "kep12b_obj.pitch_mapper.pitch_map_args[\"center_pitch\"] = 440"
   ]
  },
  {
   "cell_type": "code",
   "execution_count": 13,
   "metadata": {
    "ExecuteTime": {
     "end_time": "2021-06-14T04:14:30.662971Z",
     "start_time": "2021-06-14T04:14:30.010983Z"
    }
   },
   "outputs": [
    {
     "name": "stdout",
     "output_type": "stream",
     "text": [
      "Pyo warning: Portmidi warning: no midi device found!\n",
      "Portmidi closed.\n"
     ]
    }
   ],
   "source": [
    "#change pitch mapping\n",
    "kep12b_obj.pitch_mapper.pitch_map_args[\"stretch\"] = \"log\"\n",
    "\n",
    "kep12b_obj.sonify()\n",
    "kep12b_obj.play()"
   ]
  },
  {
   "cell_type": "code",
   "execution_count": null,
   "metadata": {},
   "outputs": [],
   "source": [
    "kep12b_obj.stop()\n",
    "#reset\n",
    "kep12b_obj.pitch_mapper.pitch_map_args[\"stretch\"] = \"linear\" "
   ]
  },
  {
   "cell_type": "code",
   "execution_count": 14,
   "metadata": {
    "ExecuteTime": {
     "end_time": "2021-06-14T04:16:13.475371Z",
     "start_time": "2021-06-14T04:16:12.801165Z"
    }
   },
   "outputs": [
    {
     "name": "stdout",
     "output_type": "stream",
     "text": [
      "Pyo warning: Portmidi warning: no midi device found!\n",
      "Portmidi closed.\n"
     ]
    }
   ],
   "source": [
    "#remove 5% outliers\n",
    "kep12b_obj.pitch_mapper.pitch_map_args[\"minmax_percent\"] = [0.5, 99.5]\n",
    "\n",
    "kep12b_obj.sonify()\n",
    "kep12b_obj.play()"
   ]
  },
  {
   "cell_type": "code",
   "execution_count": 15,
   "metadata": {
    "ExecuteTime": {
     "end_time": "2021-06-14T04:16:32.766062Z",
     "start_time": "2021-06-14T04:16:32.760606Z"
    }
   },
   "outputs": [],
   "source": [
    "kep12b_obj.stop()\n",
    "#reset\n",
    "\n",
    "del kep12b_obj.pitch_mapper.pitch_map_args[\"minmax_percent\"]\n"
   ]
  },
  {
   "cell_type": "code",
   "execution_count": 16,
   "metadata": {
    "ExecuteTime": {
     "end_time": "2021-06-14T04:16:52.585140Z",
     "start_time": "2021-06-14T04:16:50.949582Z"
    }
   },
   "outputs": [
    {
     "name": "stdout",
     "output_type": "stream",
     "text": [
      "Pyo message: Offline Server rendering file kepler_12b.wav dur=16.879996\n",
      "Pyo message: Offline Server rendering finished.\n"
     ]
    }
   ],
   "source": [
    "#save lightcurve\n",
    "kep12b_obj.write(\"kepler_12b.wav\")"
   ]
  },
  {
   "cell_type": "code",
   "execution_count": null,
   "metadata": {},
   "outputs": [],
   "source": []
  }
 ],
 "metadata": {
  "colab": {
   "name": "sonifykeplerAstropy.ipynb",
   "provenance": []
  },
  "kernelspec": {
   "display_name": "Python 3",
   "language": "python",
   "name": "python3"
  },
  "language_info": {
   "codemirror_mode": {
    "name": "ipython",
    "version": 3
   },
   "file_extension": ".py",
   "mimetype": "text/x-python",
   "name": "python",
   "nbconvert_exporter": "python",
   "pygments_lexer": "ipython3",
   "version": "3.7.3"
  },
  "latex_envs": {
   "LaTeX_envs_menu_present": true,
   "autoclose": false,
   "autocomplete": true,
   "bibliofile": "biblio.bib",
   "cite_by": "apalike",
   "current_citInitial": 1,
   "eqLabelWithNumbers": true,
   "eqNumInitial": 1,
   "hotkeys": {
    "equation": "Ctrl-E",
    "itemize": "Ctrl-I"
   },
   "labels_anchors": false,
   "latex_user_defs": false,
   "report_style_numbering": false,
   "user_envs_cfg": false
  },
  "nbTranslate": {
   "displayLangs": [
    "*"
   ],
   "hotkey": "alt-t",
   "langInMainMenu": true,
   "sourceLang": "en",
   "targetLang": "fr",
   "useGoogleTranslate": true
  },
  "toc": {
   "base_numbering": 1,
   "nav_menu": {},
   "number_sections": true,
   "sideBar": true,
   "skip_h1_title": false,
   "title_cell": "Table of Contents",
   "title_sidebar": "Contents",
   "toc_cell": false,
   "toc_position": {},
   "toc_section_display": true,
   "toc_window_display": false
  }
 },
 "nbformat": 4,
 "nbformat_minor": 1
}
