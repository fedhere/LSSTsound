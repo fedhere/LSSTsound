{
 "cells": [
  {
   "cell_type": "code",
   "execution_count": null,
   "source": [
    "!pip install pygame"
   ],
   "outputs": [],
   "metadata": {
    "ExecuteTime": {
     "end_time": "2021-08-08T20:59:31.100780Z",
     "start_time": "2021-08-08T20:59:28.709235Z"
    }
   }
  },
  {
   "cell_type": "code",
   "execution_count": null,
   "source": [
    "!pip install midiutil"
   ],
   "outputs": [],
   "metadata": {
    "ExecuteTime": {
     "end_time": "2021-08-08T20:59:33.174927Z",
     "start_time": "2021-08-08T20:59:31.103290Z"
    }
   }
  },
  {
   "cell_type": "code",
   "execution_count": null,
   "source": [
    "!pip install pretty_midi"
   ],
   "outputs": [],
   "metadata": {
    "ExecuteTime": {
     "end_time": "2021-08-08T20:59:35.165089Z",
     "start_time": "2021-08-08T20:59:33.177604Z"
    }
   }
  },
  {
   "cell_type": "code",
   "execution_count": null,
   "source": [
    "!pip install matplotlib\n",
    "!pip install numpy\n",
    "!pip install pandas\n",
    "!pip install seaborn"
   ],
   "outputs": [],
   "metadata": {}
  },
  {
   "cell_type": "code",
   "execution_count": null,
   "source": [
    "import sonify"
   ],
   "outputs": [],
   "metadata": {
    "ExecuteTime": {
     "end_time": "2021-08-08T20:59:35.599357Z",
     "start_time": "2021-08-08T20:59:35.167881Z"
    }
   }
  },
  {
   "cell_type": "code",
   "execution_count": null,
   "source": [
    "import matplotlib.pyplot as plt\n",
    "import numpy as np\n",
    "import pandas as pd\n",
    "import seaborn as sns"
   ],
   "outputs": [],
   "metadata": {
    "ExecuteTime": {
     "end_time": "2021-08-08T20:59:36.120513Z",
     "start_time": "2021-08-08T20:59:35.600870Z"
    }
   }
  },
  {
   "cell_type": "code",
   "execution_count": null,
   "source": [
    "#!wget https://zenodo.org/record/2539456/files/plasticc_train_metadata.csv.gz\n",
    "#!wget https://zenodo.org/record/2539456/files/plasticc_train_lightcurves.csv.gz"
   ],
   "outputs": [],
   "metadata": {
    "ExecuteTime": {
     "end_time": "2021-08-08T20:59:36.123639Z",
     "start_time": "2021-08-08T20:59:36.121606Z"
    }
   }
  },
  {
   "cell_type": "code",
   "execution_count": null,
   "source": [
    "#!mkdir data"
   ],
   "outputs": [],
   "metadata": {
    "ExecuteTime": {
     "end_time": "2021-08-08T20:59:36.127279Z",
     "start_time": "2021-08-08T20:59:36.125154Z"
    }
   }
  },
  {
   "cell_type": "code",
   "execution_count": null,
   "source": [
    "#!mv plasticc* data"
   ],
   "outputs": [],
   "metadata": {
    "ExecuteTime": {
     "end_time": "2021-08-08T20:59:36.131309Z",
     "start_time": "2021-08-08T20:59:36.129151Z"
    }
   }
  },
  {
   "cell_type": "code",
   "execution_count": null,
   "source": [
    "#ls data"
   ],
   "outputs": [],
   "metadata": {
    "ExecuteTime": {
     "end_time": "2021-08-08T20:59:36.256464Z",
     "start_time": "2021-08-08T20:59:36.132959Z"
    }
   }
  },
  {
   "cell_type": "code",
   "execution_count": null,
   "source": [
    "data = pd.read_csv(\"data/plasticc_train_lightcurves.csv.gz\") #43018203"
   ],
   "outputs": [],
   "metadata": {
    "ExecuteTime": {
     "end_time": "2021-08-08T20:59:41.105319Z",
     "start_time": "2021-08-08T20:59:39.921006Z"
    }
   }
  },
  {
   "cell_type": "code",
   "execution_count": null,
   "source": [
    "objData = data[\"object_id\"].isin([43018203])\n",
    "obj = data[objData]\n",
    "time = obj[\"mjd\"]\n",
    "flux = obj[\"flux\"]\n"
   ],
   "outputs": [],
   "metadata": {
    "ExecuteTime": {
     "end_time": "2021-08-08T20:59:41.143375Z",
     "start_time": "2021-08-08T20:59:41.107507Z"
    }
   }
  },
  {
   "cell_type": "code",
   "execution_count": null,
   "source": [
    "def multiPlotObject(objectID,x=None,x0=None, x1=None, y0=None, y1=None):\n",
    "    plt.figure(figsize=(8, 5))\n",
    "    plt.xlabel(\"Time (MJD)\")\n",
    "    plt.ylabel(\"Flux\")\n",
    "    plt.title(\"object: \"+str(objectID))\n",
    "\n",
    "    ugrizy = ['u','g','r','i','z','y']\n",
    "    newColorsL = ['#cc78bc','#0173b2','#029e73','#ece133','#de8f05','#d55e00']\n",
    "    sns.set_palette(newColorsL)\n",
    "\n",
    "    instruments= ['piccolo','violin','viola','cello','slap bass 1','tuba']\n",
    "    \n",
    "\n",
    "\n",
    "\n",
    "\n",
    "    objData = data[\"object_id\"].isin([objectID])\n",
    "    obj = data[objData]\n",
    "\n",
    "    for i in range(6):\n",
    "        objPfilt = obj[\"passband\"].isin([i])\n",
    "        objP = obj[objPfilt]\n",
    "        timeP = objP[\"mjd\"]\n",
    "        fluxP = objP[\"flux\"]\n",
    "        fErr = objP[\"flux_err\"]\n",
    "\n",
    "        #plt.errorbar(timeP,fluxP,yerr = fErr,fmt ='o', capsize=0, label = ugrizy[i])\n",
    "        plt.errorbar(timeP,fluxP,yerr = fErr,fmt ='o', capsize=0, label = ugrizy[i] + \": \" + instruments[i] )\n",
    "\n",
    "        plt.legend(title= \"Passband Legend\",bbox_to_anchor=(1.25,1))\n",
    "    if not (x0 is None) and not (x1 is None):\n",
    "        plt.xlim(x0,x1)\n",
    "    if not (y0 is None) and not (y1 is None):\n",
    "        plt.ylim(y0,y1)\n",
    "\n",
    "    if not (x is None):\n",
    "        y0,y1 = plt.ylim()\n",
    "        x0,x1 = plt.xlim()\n",
    "    \n",
    "        plt.plot([x,x+20],[y1,y1],\"k\",alpha=0.5,lw=3)\n",
    "        \n",
    "        plt.savefig(\"plotFigures/test%d.png\"%(int(x)), bbox_inches='tight')\n"
   ],
   "outputs": [],
   "metadata": {}
  },
  {
   "cell_type": "code",
   "execution_count": null,
   "source": [
    "plt.figure(figsize=(8, 5))\n",
    "plt.plot(time, flux, 'o', color = \"black\")\n",
    "plt.xlabel(\"Time (MJD)\")\n",
    "plt.ylabel(\"Flux\")\n",
    "plt.title(\"object: 43018203\")"
   ],
   "outputs": [],
   "metadata": {
    "ExecuteTime": {
     "end_time": "2021-08-08T21:54:22.260947Z",
     "start_time": "2021-08-08T21:54:22.129879Z"
    }
   }
  },
  {
   "cell_type": "code",
   "execution_count": null,
   "source": [
    "multiPlotObject(43018203)"
   ],
   "outputs": [],
   "metadata": {}
  },
  {
   "cell_type": "code",
   "execution_count": null,
   "source": [
    "f, ax = plt.subplots(2,3, figsize=(15,8))\n",
    "f.subplots_adjust(wspace=0.5)\n",
    "f.subplots_adjust(hspace=0.5)\n",
    "ax = ax.flatten()\n",
    "ugrizyC = [\"purple\", \"blue\", \"green\", \"lightgreen\", \"yellow\", \"red\"]\n",
    "ugrizy = [\"u\",\"g\",\"r\",\"i\",\"z\",\"y\"]\n",
    "newColorsL = ['#cc78bc','#0173b2','#029e73','#ece133','#de8f05','#d55e00']\n",
    "#sns.set_palette(newColorsL)\n",
    "for i in range(6):\n",
    "    objPfilt = obj[\"passband\"].isin([i])\n",
    "    objP = obj[objPfilt]\n",
    "    timeP = objP[\"mjd\"]\n",
    "    fluxP = objP[\"flux\"]\n",
    "    ax[i].set_xlabel(\"Time (MJD)\")\n",
    "    ax[i].set_ylabel(\"Flux\")\n",
    "    ax[i].set_title(ugrizy[i])\n",
    "    ax[i].scatter(timeP, fluxP, color = newColorsL[i])\n",
    "   \n"
   ],
   "outputs": [],
   "metadata": {
    "ExecuteTime": {
     "end_time": "2021-08-08T20:59:44.383196Z",
     "start_time": "2021-08-08T20:59:43.796633Z"
    }
   }
  },
  {
   "cell_type": "code",
   "execution_count": null,
   "source": [
    "x_points = time\n",
    "y_points = flux\n",
    "low_note=20\n",
    "high_note=100\n",
    "normalized_x = sonify.core.scale_list_to_range(x_points, new_min=0, new_max=30)\n",
    "normalized_y = sonify.core.scale_list_to_range(y_points, new_min=low_note, new_max=high_note)\n",
    "        \n",
    "normed_data = list(zip(normalized_x, normalized_y))\n"
   ],
   "outputs": [],
   "metadata": {
    "ExecuteTime": {
     "end_time": "2021-08-08T20:59:48.910904Z",
     "start_time": "2021-08-08T20:59:48.906969Z"
    }
   }
  },
  {
   "cell_type": "markdown",
   "source": [
    "# PLAY THIS FIRST"
   ],
   "metadata": {}
  },
  {
   "cell_type": "code",
   "execution_count": null,
   "source": [
    "plt.figure(figsize=(10, 3))\n",
    "plt.plot(time, flux, 'o', color = \"black\")"
   ],
   "outputs": [],
   "metadata": {
    "ExecuteTime": {
     "end_time": "2021-08-09T00:38:10.903629Z",
     "start_time": "2021-08-09T00:38:10.742126Z"
    }
   }
  },
  {
   "cell_type": "code",
   "execution_count": null,
   "source": [
    "sonify.play_midi_from_data(normed_data)"
   ],
   "outputs": [],
   "metadata": {
    "ExecuteTime": {
     "end_time": "2021-08-09T00:38:28.394642Z",
     "start_time": "2021-08-09T00:38:12.363584Z"
    }
   }
  },
  {
   "cell_type": "code",
   "execution_count": null,
   "source": [
    "midi_from_data(normed_data)"
   ],
   "outputs": [],
   "metadata": {}
  },
  {
   "cell_type": "code",
   "execution_count": null,
   "source": [
    "############################################### now for multitrack"
   ],
   "outputs": [],
   "metadata": {}
  },
  {
   "cell_type": "code",
   "execution_count": null,
   "source": [
    "ugrizyC = ['#cc78bc','#0173b2','#029e73','#ece133','#de8f05','#d55e00']\n",
    "instruments= ['piccolo','violin','viola','cello','slap bass 1','tuba']\n",
    "def multiPlotObject(data, x0=None, x1=None, y0=None, y1=None):\n",
    "    plt.figure(figsize=(10, 3))\n",
    "    plt.xlabel(\"Time (MJD)\")\n",
    "    plt.ylabel(\"Flux\")\n",
    "    \n",
    "    #objData = data[\"object_id\"].isin([objectID])\n",
    "    obj = data#[objData]\n",
    "    \n",
    "    for i in range(6):\n",
    "        objPfilt = obj[\"passband\"].isin([i])\n",
    "        objP = obj[objPfilt]\n",
    "        timeP = objP[\"mjd\"]\n",
    "        #print(timeP)\n",
    "        fluxP = objP[\"flux\"]\n",
    "        plt.plot(timeP,fluxP, 'o', color = ugrizyC[i])\n",
    "\n",
    "    if not (x0 is None) and not (x1 is None):\n",
    "        plt.xlim(x0,x1)\n",
    "    if not (y0 is None) and not (y1 is None):\n",
    "        plt.ylim(y0,y1)\n",
    "        \n",
    "def multiPlotBand(timeP, fluxP, fluxerrP=None, \n",
    "                  i=0, x0=None, x1=None, y0=None, y1=None):\n",
    "    plt.xlabel(\"Time (MJD)\")\n",
    "    plt.ylabel(\"Flux\")\n",
    "\n",
    "    if fluxerrP is None:\n",
    "        plt.plot(timeP, fluxP, 'o', color = ugrizyC[i], label=ugrizy[i] + \": \" + instruments[i])\n",
    "    else:\n",
    "        plt.errorbar(timeP, fluxP, yerr=fluxerrP, fmt='o', color = ugrizyC[i], label=ugrizy[i] + \": \" + instruments[i])\n",
    "  \n",
    "    if not (x0 is None) and not (x1 is None):\n",
    "        plt.xlim(x0,x1)\n",
    "    if not (y0 is None) and not (y1 is None):\n",
    "        plt.ylim(y0,y1)\n",
    "    plt.legend(title= \"Passband Legend\",bbox_to_anchor=(1.32,1))"
   ],
   "outputs": [],
   "metadata": {
    "ExecuteTime": {
     "end_time": "2021-08-08T21:35:37.415054Z",
     "start_time": "2021-08-08T21:35:37.407302Z"
    }
   }
  },
  {
   "cell_type": "code",
   "execution_count": null,
   "source": [
    "\n",
    "def multiSonification(data, band=None):\n",
    "    multiData = []\n",
    "\n",
    "    FEObj = pd.DataFrame()\n",
    "    \n",
    "    number_of_octaves = []\n",
    "    octave_start = []\n",
    "    volume = []\n",
    "    for i in range(6):\n",
    "        if not (band is None) and not i==band:\n",
    "            continue\n",
    "        print(i)\n",
    "        objPfilt = data[\"passband\"].isin([i])\n",
    "        objP = data[objPfilt]\n",
    "        timeP = objP[\"mjd\"]\n",
    "        #print(timeP)\n",
    "        fluxP = objP[\"flux\"]\n",
    "        errP = objP[\"flux_err\"] \n",
    "        scaled_x = sonify.scale_list_to_range(timeP, new_min=0, new_max=10)\n",
    "        #print(scaled_x)\n",
    "        scaled_y = sonify.scale_list_to_range(fluxP, new_min=0, new_max=fluxP.max()/100)\n",
    "        \n",
    "        scaled_errP = sonify.scale_list_to_range(errP, new_min=0, new_max=254)\n",
    "        scaled_errP = 255 - np.array(scaled_errP)\n",
    "        quantized_x = sonify.quantize_x_value(scaled_x, 0.01)\n",
    "        qyantized_y = sonify.quantize_x_value(scaled_y, 0.01)\n",
    "        #print(scaled_y)\n",
    "        multiData.append(list(zip(quantized_x, scaled_y)))\n",
    "        #print(multiData)\n",
    "        volume.append(np.array(scaled_errP).astype(int))\n",
    "        number_of_octaves.append(int(fluxP.max()/10)+1)\n",
    "        octave_start.append(3-i)\n",
    "        multiPlotBand(quantized_x, fluxP, fluxerrP=errP, i=i)\n",
    "\n",
    "        plt.title(\"object: 43018203\")\n",
    "        #plt.savefig(\"test%d.png\"%(int(i)), bbox_inches='tight')\n",
    "\n",
    "    plt.show()\n",
    "\n",
    "    \n",
    "\n",
    "    instruments_to_add = ['piccolo',\n",
    "                          'violin',\n",
    "                          'viola',\n",
    "                          'cello',\n",
    "                          'slap bass 1','tuba']\n",
    "    \n",
    "    multiDataWIntsruments = []\n",
    "    for index, track in enumerate(multiData):\n",
    "        multiDataWIntsruments.append([instruments_to_add[index]] + track)\n",
    "    print(octave_start)\n",
    "    print(number_of_octaves)\n",
    "    print(\"volume\", volume)\n",
    "    print(quantized_x)\n",
    "    print(scaled_y)\n",
    "    #sonify.play_midi_from_data([multiDataWIntsruments[0]], track_type='multiple', key='c_major')\n",
    "    #track_type='multiple', key='c_major')\n",
    "    #FEObj = data\n",
    "    if not (band is None):\n",
    "        sonify.play_midi_from_data(multiDataWIntsruments[0:1], track_type='multiple', \n",
    "                               key='c_minor', octave_start = octave_start,\n",
    "                               #number_of_octaves=number_of_octaves, \n",
    "                               volume=volume)\n",
    "    else:\n",
    "        sonify.play_midi_from_data(multiDataWIntsruments, track_type='multiple', \n",
    "                               key='c_minor', octave_start = octave_start,\n",
    "                               #number_of_octaves=number_of_octaves, \n",
    "                               volume=volume)\n",
    "    return(data)\n",
    "\n",
    "\n",
    "def multimonotoneSonification(data, nbands):\n",
    "    multiData = []\n",
    "\n",
    "    FEObj = pd.DataFrame()\n",
    "    \n",
    "    number_of_octaves = []\n",
    "    octave_start = []\n",
    "    volume = []\n",
    "    for i in range(6):\n",
    "        print(i)\n",
    "        objPfilt = data[\"passband\"].isin([i])\n",
    "        objP = data[objPfilt]\n",
    "        timeP = objP[\"mjd\"]\n",
    "        #print(timeP)\n",
    "        fluxP = objP[\"flux\"]\n",
    "        errP = objP[\"flux_err\"] \n",
    "        refluxP = np.zeros_like(objP[\"flux\"]) + i * 10 + 1\n",
    "        scaled_x = sonify.scale_list_to_range(timeP, new_min=0, new_max=10)\n",
    "        #print(scaled_x)\n",
    "        quantized_x = sonify.quantize_x_value(scaled_x, 0.01)\n",
    "        #print(scaled_y)\n",
    "        multiData.append(list(zip(quantized_x, refluxP)))\n",
    "        #print(multiData)\n",
    "        number_of_octaves.append(int(fluxP.max()/10)+1)\n",
    "        octave_start.append(3-i)\n",
    "        \n",
    "        #print(refluxP)\n",
    "        \n",
    "        volume.append(sonify.quantize_x_value(\n",
    "            sonify.scale_list_to_range(fluxP, new_min=1, new_max=255), 1))\n",
    "        print(volume)\n",
    "        #volume[-1] = sonify.scale_list_to_range(volume[-1], new_min=0, new_max=np.abs(volume[-1]).max())\n",
    "        number_of_octaves.append(int(fluxP.max()/10)+1)\n",
    "        octave_start.append(3-i)\n",
    "        multiPlotBand(quantized_x, fluxP, fluxerrP=errP, i=i)\n",
    "    plt.show()\n",
    "    instruments_to_add = ['piccolo',\n",
    "                          'viola',\n",
    "                          \"trumpet\",\n",
    "                          'cello',\n",
    "                          'tuba', \n",
    "                          'steel drums']\n",
    "    #instruments_to_add = [inst] * 6\n",
    "    \n",
    "    multiDataWIntsruments = []\n",
    "    for index, track in enumerate(multiData):\n",
    "        multiDataWIntsruments.append([instruments_to_add[index]] + track)\n",
    "    #print(octave_start)\n",
    "    #print(number_of_octaves)\n",
    "    #print(volume)\n",
    "    #sonify.play_midi_from_data([multiDataWIntsruments[0]], track_type='multiple', key='c_major')\n",
    "    #track_type='multiple', key='c_major')\n",
    "    #FEObj = data\n",
    "    sonify.play_midi_from_data(multiDataWIntsruments[:nbands], track_type='multiple', \n",
    "                               key='c_minor', octave_start = octave_start,\n",
    "                               number_of_octaves=number_of_octaves,\n",
    "                               volume=volume)\n",
    "    return(data)\n",
    "\n"
   ],
   "outputs": [],
   "metadata": {
    "ExecuteTime": {
     "end_time": "2021-08-09T00:10:54.707733Z",
     "start_time": "2021-08-09T00:10:54.684714Z"
    }
   }
  },
  {
   "cell_type": "markdown",
   "source": [
    "# play this next"
   ],
   "metadata": {
    "ExecuteTime": {
     "end_time": "2021-08-08T21:39:01.649882Z",
     "start_time": "2021-08-08T21:39:01.647663Z"
    }
   }
  },
  {
   "cell_type": "code",
   "execution_count": null,
   "source": [
    "multiSonification(obj)"
   ],
   "outputs": [],
   "metadata": {
    "ExecuteTime": {
     "end_time": "2021-08-09T00:38:35.369257Z",
     "start_time": "2021-08-09T00:38:29.141931Z"
    }
   }
  },
  {
   "cell_type": "code",
   "execution_count": null,
   "source": [
    "#for i in range(6):\n",
    "#    multiSonification(obj,i)"
   ],
   "outputs": [],
   "metadata": {}
  },
  {
   "cell_type": "code",
   "execution_count": null,
   "source": [
    "i=0\n",
    "print(\"ugrizy\"[i])\n",
    "multiSonification(obj, i)"
   ],
   "outputs": [],
   "metadata": {
    "ExecuteTime": {
     "end_time": "2021-08-09T00:11:16.391166Z",
     "start_time": "2021-08-09T00:11:10.222962Z"
    }
   }
  },
  {
   "cell_type": "code",
   "execution_count": null,
   "source": [
    "i=1\n",
    "print(\"ugrizy\"[i])\n",
    "multiSonification(obj, i)"
   ],
   "outputs": [],
   "metadata": {
    "ExecuteTime": {
     "end_time": "2021-08-09T00:11:32.629889Z",
     "start_time": "2021-08-09T00:11:26.460033Z"
    }
   }
  },
  {
   "cell_type": "markdown",
   "source": [
    "# play this next"
   ],
   "metadata": {}
  },
  {
   "cell_type": "code",
   "execution_count": null,
   "source": [
    "i=2\n",
    "print(\"ugrizy\"[i])\n",
    "multiSonification(obj, i)"
   ],
   "outputs": [],
   "metadata": {
    "ExecuteTime": {
     "start_time": "2021-08-09T00:38:47.570Z"
    }
   }
  },
  {
   "cell_type": "code",
   "execution_count": null,
   "source": [
    "i=3\n",
    "print(\"ugrizy\"[i])\n",
    "multiSonification(obj, i)"
   ],
   "outputs": [],
   "metadata": {
    "ExecuteTime": {
     "end_time": "2021-08-08T21:42:31.962492Z",
     "start_time": "2021-08-08T21:42:25.796502Z"
    }
   }
  },
  {
   "cell_type": "code",
   "execution_count": null,
   "source": [
    "i=4\n",
    "print(\"ugrizy\"[i])\n",
    "multiSonification(obj, i)"
   ],
   "outputs": [],
   "metadata": {
    "ExecuteTime": {
     "end_time": "2021-08-08T21:42:38.330969Z",
     "start_time": "2021-08-08T21:42:32.160082Z"
    }
   }
  },
  {
   "cell_type": "markdown",
   "source": [
    "# play this next"
   ],
   "metadata": {}
  },
  {
   "cell_type": "code",
   "execution_count": null,
   "source": [
    "i=5\n",
    "print(\"ugrizy\"[i])\n",
    "multiSonification(obj, i)"
   ],
   "outputs": [],
   "metadata": {
    "ExecuteTime": {
     "end_time": "2021-08-08T23:30:22.352448Z",
     "start_time": "2021-08-08T23:30:16.204124Z"
    }
   }
  },
  {
   "cell_type": "markdown",
   "source": [
    "# play this next"
   ],
   "metadata": {
    "ExecuteTime": {
     "end_time": "2021-08-08T21:49:07.104411Z",
     "start_time": "2021-08-08T21:49:07.093633Z"
    }
   }
  },
  {
   "cell_type": "code",
   "execution_count": null,
   "source": [
    "multimonotoneSonification(obj,  6)"
   ],
   "outputs": [],
   "metadata": {
    "ExecuteTime": {
     "end_time": "2021-08-08T23:30:32.677260Z",
     "start_time": "2021-08-08T23:30:26.378589Z"
    }
   }
  },
  {
   "cell_type": "code",
   "execution_count": null,
   "source": [],
   "outputs": [],
   "metadata": {}
  },
  {
   "cell_type": "code",
   "execution_count": null,
   "source": [],
   "outputs": [],
   "metadata": {}
  }
 ],
 "metadata": {
  "interpreter": {
   "hash": "7812ea015bdcee6f23a998adcdd2ef97c151c0c241b7b7070987d9313e41299d"
  },
  "kernelspec": {
   "display_name": "Python 3 (ipykernel)",
   "language": "python",
   "name": "python3"
  },
  "language_info": {
   "codemirror_mode": {
    "name": "ipython",
    "version": 3
   },
   "file_extension": ".py",
   "mimetype": "text/x-python",
   "name": "python",
   "nbconvert_exporter": "python",
   "pygments_lexer": "ipython3",
   "version": "3.9.6"
  },
  "latex_envs": {
   "LaTeX_envs_menu_present": true,
   "autoclose": false,
   "autocomplete": true,
   "bibliofile": "biblio.bib",
   "cite_by": "apalike",
   "current_citInitial": 1,
   "eqLabelWithNumbers": true,
   "eqNumInitial": 1,
   "hotkeys": {
    "equation": "Ctrl-E",
    "itemize": "Ctrl-I"
   },
   "labels_anchors": false,
   "latex_user_defs": false,
   "report_style_numbering": false,
   "user_envs_cfg": false
  },
  "nbTranslate": {
   "displayLangs": [
    "*"
   ],
   "hotkey": "alt-t",
   "langInMainMenu": true,
   "sourceLang": "en",
   "targetLang": "fr",
   "useGoogleTranslate": true
  },
  "toc": {
   "base_numbering": 1,
   "nav_menu": {},
   "number_sections": true,
   "sideBar": true,
   "skip_h1_title": false,
   "title_cell": "Table of Contents",
   "title_sidebar": "Contents",
   "toc_cell": false,
   "toc_position": {},
   "toc_section_display": true,
   "toc_window_display": false
  }
 },
 "nbformat": 4,
 "nbformat_minor": 2
}