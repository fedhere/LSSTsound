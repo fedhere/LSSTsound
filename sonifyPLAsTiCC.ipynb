{
  "nbformat": 4,
  "nbformat_minor": 0,
  "metadata": {
    "orig_nbformat": 4,
    "colab": {
      "name": "sonifyPLAsTiCC.ipynb",
      "provenance": [],
      "collapsed_sections": []
    },
    "language_info": {
      "name": "python",
      "version": "3.9.5"
    },
    "kernelspec": {
      "name": "python3",
      "display_name": "Python 3.9.5 64-bit ('3.9')"
    },
    "interpreter": {
      "hash": "7812ea015bdcee6f23a998adcdd2ef97c151c0c241b7b7070987d9313e41299d"
    }
  },
  "cells": [
    {
      "cell_type": "code",
      "metadata": {
        "colab": {
          "base_uri": "https://localhost:8080/"
        },
        "id": "2mM-9Tw4q6ay",
        "outputId": "86470bf0-0d6d-4868-a50f-6cecb351fd3d"
      },
      "source": [
        "!pip install astronify"
      ],
      "execution_count": null,
      "outputs": []
    },
    {
      "cell_type": "code",
      "metadata": {
        "colab": {
          "base_uri": "https://localhost:8080/"
        },
        "id": "eRbMSknuqDDG",
        "outputId": "5ccf081f-bdc4-445a-dd89-13eef7bdb440"
      },
      "source": [
        "\n",
        "from astronify.series import SoniSeries\n",
        "from astropy.table import Table\n",
        "import numpy as np\n",
        "import pandas as pd\n",
        "from matplotlib import pyplot as plt"
      ],
      "execution_count": null,
      "outputs": []
    },
    {
      "cell_type": "code",
      "execution_count": null,
      "metadata": {},
      "outputs": [],
      "source": [
        "ls"
      ]
    },
    {
      "cell_type": "code",
      "metadata": {
        "colab": {
          "base_uri": "https://localhost:8080/"
        },
        "id": "vM81u_1aqXzY",
        "outputId": "1367e2cc-eeee-426a-b6ab-68f0f38123c6"
      },
      "source": [
        "!wget https://zenodo.org/record/2539456/files/plasticc_train_metadata.csv.gz"
      ],
      "execution_count": null,
      "outputs": []
    },
    {
      "cell_type": "code",
      "metadata": {
        "colab": {
          "base_uri": "https://localhost:8080/"
        },
        "id": "vWW16yHQqrwd",
        "outputId": "af1fd04f-6000-43f0-f288-8ef7bde981da"
      },
      "source": [
        "!wget https://zenodo.org/record/2539456/files/plasticc_train_lightcurves.csv.gz"
      ],
      "execution_count": null,
      "outputs": []
    },
    {
      "cell_type": "code",
      "metadata": {
        "id": "c_OXIb2nqmd_"
      },
      "source": [
        "!mkdir data"
      ],
      "execution_count": null,
      "outputs": []
    },
    {
      "cell_type": "code",
      "metadata": {
        "id": "gT03kYLkqzok"
      },
      "source": [
        "!mv plasticc* data"
      ],
      "execution_count": null,
      "outputs": []
    },
    {
      "cell_type": "code",
      "metadata": {
        "colab": {
          "base_uri": "https://localhost:8080/"
        },
        "id": "ACn25QZDq1lY",
        "outputId": "44db2e89-e96f-423b-d73a-fa93c30c9663"
      },
      "source": [
        "ls data"
      ],
      "execution_count": null,
      "outputs": []
    },
    {
      "cell_type": "code",
      "metadata": {
        "colab": {
          "base_uri": "https://localhost:8080/",
          "height": 206
        },
        "id": "JX65T_BRrYb5",
        "outputId": "a43a0cce-a907-4782-f2f7-0b5c03a2db0a"
      },
      "source": [
        "dataREAD = pd.read_csv(\"data/plasticc_train_lightcurves.csv.gz\")"
      ],
      "execution_count": null,
      "outputs": []
    },
    {
      "cell_type": "code",
      "execution_count": null,
      "metadata": {
        "tags": []
      },
      "outputs": [],
      "source": [
        "obj1 = dataREAD[\"object_id\"].isin([31601139]) #20222858, 615 is weird, 31601139, 66626509 is cool\n",
        "obj1DATA = dataREAD[obj1]\n",
        "time = obj1DATA[\"mjd\"]\n",
        "flux = obj1DATA[\"flux\"]\n",
        "obj1DATA"
      ]
    },
    {
      "cell_type": "code",
      "metadata": {
        "id": "U3QFwp7FqDDH"
      },
      "source": [
        "data_table = Table({\"time\":time,\"flux\":flux})"
      ],
      "execution_count": null,
      "outputs": []
    },
    {
      "cell_type": "code",
      "execution_count": null,
      "metadata": {},
      "outputs": [],
      "source": [
        "f, ax = plt.subplots(figsize=(18,5))\n",
        "ax.plot(time, flux)\n",
        "ax.set_xlabel(\"Time (MJD)\")\n",
        "ax.set_ylabel(\"Flux\")\n",
        "plt.show()"
      ]
    },
    {
      "cell_type": "code",
      "execution_count": null,
      "metadata": {},
      "outputs": [],
      "source": [
        "sonifyLC = SoniSeries(data_table)"
      ]
    },
    {
      "cell_type": "code",
      "execution_count": null,
      "metadata": {},
      "outputs": [],
      "source": [
        "sonifyLC.pitch_mapper.pitch_map_args[\"center_pitch\"] = 440"
      ]
    },
    {
      "cell_type": "code",
      "execution_count": null,
      "metadata": {},
      "outputs": [],
      "source": [
        "sonifyLC.pitch_mapper.pitch_map_args[\"minmax_percent\"] = [0.5, 99.5]"
      ]
    },
    {
      "cell_type": "code",
      "execution_count": null,
      "metadata": {},
      "outputs": [],
      "source": [
        "sonifyLC.pitch_mapper.pitch_map_args[\"stretch\"] = \"log\""
      ]
    },
    {
      "cell_type": "code",
      "execution_count": null,
      "metadata": {},
      "outputs": [],
      "source": [
        "sonifyLC.pitch_mapper.pitch_map_args[\"stretch\"] = \"linear\""
      ]
    },
    {
      "cell_type": "code",
      "metadata": {
        "id": "iqu0fFUVsvBS"
      },
      "source": [
        "sonifyLC.sonify()"
      ],
      "execution_count": null,
      "outputs": []
    },
    {
      "cell_type": "code",
      "execution_count": null,
      "metadata": {},
      "outputs": [],
      "source": [
        "del sonifyLC.pitch_mapper.pitch_map_args[\"minmax_percent\"]"
      ]
    },
    {
      "cell_type": "code",
      "metadata": {
        "id": "w0yRVDw6s6Wt"
      },
      "source": [
        "sonifyLC.play();"
      ],
      "execution_count": null,
      "outputs": []
    },
    {
      "cell_type": "code",
      "metadata": {
        "id": "UZsYnPn5s-tr"
      },
      "source": [
        "sonifyLC.stop();"
      ],
      "execution_count": null,
      "outputs": []
    },
    {
      "cell_type": "code",
      "metadata": {
        "id": "WqHYBeTEtHEA"
      },
      "source": [
        "sonifyLC.write(\"sonifyLCA.wav\")"
      ],
      "execution_count": null,
      "outputs": []
    },
    {
      "cell_type": "code",
      "execution_count": null,
      "metadata": {},
      "outputs": [],
      "source": []
    }
  ]
}