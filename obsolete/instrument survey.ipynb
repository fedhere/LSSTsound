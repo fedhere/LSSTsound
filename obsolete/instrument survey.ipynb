{
 "cells": [
  {
   "cell_type": "code",
   "execution_count": 2,
   "id": "b1db9f7f",
   "metadata": {},
   "outputs": [
    {
     "name": "stdout",
     "output_type": "stream",
     "text": [
      "Requirement already satisfied: midiutil in /Users/Riley/opt/anaconda3/lib/python3.8/site-packages (1.2.1)\n",
      "Requirement already satisfied: pygame in /Users/Riley/opt/anaconda3/lib/python3.8/site-packages (2.0.1)\n",
      "Requirement already satisfied: pretty_midi in /Users/Riley/opt/anaconda3/lib/python3.8/site-packages (0.2.9)\n",
      "Requirement already satisfied: mido>=1.1.16 in /Users/Riley/opt/anaconda3/lib/python3.8/site-packages (from pretty_midi) (1.2.10)\n",
      "Requirement already satisfied: six in /Users/Riley/opt/anaconda3/lib/python3.8/site-packages (from pretty_midi) (1.15.0)\n",
      "Requirement already satisfied: numpy>=1.7.0 in /Users/Riley/opt/anaconda3/lib/python3.8/site-packages (from pretty_midi) (1.20.1)\n"
     ]
    }
   ],
   "source": [
    "!pip install midiutil\n",
    "!pip install pygame\n",
    "!pip install pretty_midi"
   ]
  },
  {
   "cell_type": "code",
   "execution_count": 162,
   "id": "b8d281a3",
   "metadata": {},
   "outputs": [],
   "source": [
    "import sonify\n",
    "import matplotlib.pyplot as plt\n",
    "import numpy as np\n",
    "import pandas as pd\n",
    "from midiutil import MIDIFile"
   ]
  },
  {
   "cell_type": "code",
   "execution_count": 169,
   "id": "89745b2b",
   "metadata": {},
   "outputs": [],
   "source": [
    "x = np.arange(50)\n",
    "y = np.sin(x/(np.pi)) + (np.random.random(50)-0.5)\n",
    "\n",
    "data = pd.DataFrame(data={'time':x, 'flux':y})"
   ]
  },
  {
   "cell_type": "code",
   "execution_count": 170,
   "id": "839ec8df",
   "metadata": {},
   "outputs": [],
   "source": [
    "def sonification(data, inst):\n",
    "    \n",
    "    FEObj = pd.DataFrame()\n",
    "    \n",
    "    obj = data\n",
    "    time = obj[\"time\"]\n",
    "    flux = obj[\"flux\"]\n",
    "\n",
    "\n",
    "    x_points = time\n",
    "    y_points = flux\n",
    "    low_note=20\n",
    "    high_note=100\n",
    "    normalized_x = sonify.core.scale_list_to_range(x_points, new_min=0, new_max=30)\n",
    "    normalized_y = sonify.core.scale_list_to_range(y_points, new_min=low_note, new_max=high_note)\n",
    "            \n",
    "    normed_data = list(zip(normalized_x, normalized_y))\n",
    "    FEObj = obj\n",
    "    \n",
    "    trackwinst = []\n",
    "    trackwinst.append([inst] + normed_data)\n",
    "    sonify.play_midi_from_data(trackwinst, track_type='multiple', key='c_major')"
   ]
  },
  {
   "cell_type": "code",
   "execution_count": 171,
   "id": "c5a4dfa7",
   "metadata": {},
   "outputs": [
    {
     "data": {
      "text/plain": [
       "[<matplotlib.lines.Line2D at 0x120bf73a0>]"
      ]
     },
     "execution_count": 171,
     "metadata": {},
     "output_type": "execute_result"
    },
    {
     "data": {
      "image/png": "[encoded data removed]",
      "text/plain": [
       "<Figure size 432x288 with 1 Axes>"
      ]
     },
     "metadata": {
      "needs_background": "light"
     },
     "output_type": "display_data"
    }
   ],
   "source": [
    "plt.scatter(data['time'],data['flux'], c='k',s=10)\n",
    "plt.plot(x,y,'--')"
   ]
  },
  {
   "cell_type": "code",
   "execution_count": 190,
   "id": "0fe40493",
   "metadata": {},
   "outputs": [
    {
     "name": "stdout",
     "output_type": "stream",
     "text": [
      "Done playing!\n"
     ]
    }
   ],
   "source": [
    "sonification(data,'timpani')"
   ]
  },
  {
   "cell_type": "markdown",
   "id": "57d98263",
   "metadata": {},
   "source": [
    "Good vibes: kalimba, xylophone, marimba, shamisen, timpani, sitar, fretless bass, orchestral harp, harpsichord"
   ]
  },
  {
   "cell_type": "code",
   "execution_count": 279,
   "id": "dbf71f66",
   "metadata": {},
   "outputs": [
    {
     "data": {
      "text/html": [
       "<div>\n",
       "<style scoped>\n",
       "    .dataframe tbody tr th:only-of-type {\n",
       "        vertical-align: middle;\n",
       "    }\n",
       "\n",
       "    .dataframe tbody tr th {\n",
       "        vertical-align: top;\n",
       "    }\n",
       "\n",
       "    .dataframe thead th {\n",
       "        text-align: right;\n",
       "    }\n",
       "</style>\n",
       "<table border=\"1\" class=\"dataframe\">\n",
       "  <thead>\n",
       "    <tr style=\"text-align: right;\">\n",
       "      <th></th>\n",
       "      <th>mjd</th>\n",
       "      <th>flux</th>\n",
       "      <th>passband</th>\n",
       "    </tr>\n",
       "  </thead>\n",
       "  <tbody>\n",
       "    <tr>\n",
       "      <th>0</th>\n",
       "      <td>0</td>\n",
       "      <td>0.288703</td>\n",
       "      <td>0</td>\n",
       "    </tr>\n",
       "    <tr>\n",
       "      <th>1</th>\n",
       "      <td>1</td>\n",
       "      <td>0.350575</td>\n",
       "      <td>0</td>\n",
       "    </tr>\n",
       "    <tr>\n",
       "      <th>2</th>\n",
       "      <td>2</td>\n",
       "      <td>0.017737</td>\n",
       "      <td>0</td>\n",
       "    </tr>\n",
       "    <tr>\n",
       "      <th>3</th>\n",
       "      <td>3</td>\n",
       "      <td>0.110088</td>\n",
       "      <td>0</td>\n",
       "    </tr>\n",
       "    <tr>\n",
       "      <th>4</th>\n",
       "      <td>4</td>\n",
       "      <td>-0.250616</td>\n",
       "      <td>0</td>\n",
       "    </tr>\n",
       "    <tr>\n",
       "      <th>...</th>\n",
       "      <td>...</td>\n",
       "      <td>...</td>\n",
       "      <td>...</td>\n",
       "    </tr>\n",
       "    <tr>\n",
       "      <th>295</th>\n",
       "      <td>45</td>\n",
       "      <td>24.742993</td>\n",
       "      <td>5</td>\n",
       "    </tr>\n",
       "    <tr>\n",
       "      <th>296</th>\n",
       "      <td>46</td>\n",
       "      <td>21.452151</td>\n",
       "      <td>5</td>\n",
       "    </tr>\n",
       "    <tr>\n",
       "      <th>297</th>\n",
       "      <td>47</td>\n",
       "      <td>16.593991</td>\n",
       "      <td>5</td>\n",
       "    </tr>\n",
       "    <tr>\n",
       "      <th>298</th>\n",
       "      <td>48</td>\n",
       "      <td>10.795299</td>\n",
       "      <td>5</td>\n",
       "    </tr>\n",
       "    <tr>\n",
       "      <th>299</th>\n",
       "      <td>49</td>\n",
       "      <td>2.358771</td>\n",
       "      <td>5</td>\n",
       "    </tr>\n",
       "  </tbody>\n",
       "</table>\n",
       "<p>300 rows × 3 columns</p>\n",
       "</div>"
      ],
      "text/plain": [
       "     mjd       flux  passband\n",
       "0      0   0.288703         0\n",
       "1      1   0.350575         0\n",
       "2      2   0.017737         0\n",
       "3      3   0.110088         0\n",
       "4      4  -0.250616         0\n",
       "..   ...        ...       ...\n",
       "295   45  24.742993         5\n",
       "296   46  21.452151         5\n",
       "297   47  16.593991         5\n",
       "298   48  10.795299         5\n",
       "299   49   2.358771         5\n",
       "\n",
       "[300 rows x 3 columns]"
      ]
     },
     "execution_count": 279,
     "metadata": {},
     "output_type": "execute_result"
    }
   ],
   "source": [
    "x = np.arange(50)\n",
    "\n",
    "d = {'mjd':[],'flux':[],'passband':[]}\n",
    "\n",
    "for i in range(6):\n",
    "    \n",
    "    y = i**2*np.sin(x/(np.pi)) + (np.random.random(50)-0.5)\n",
    "    \n",
    "    if i==0:\n",
    "        y[20:25] += 50\n",
    "    else:\n",
    "        pass\n",
    "    \n",
    "    for k in range(50):\n",
    "\n",
    "        d['mjd'].append(x[k])\n",
    "        d['flux'].append(y[k])\n",
    "        d['passband'].append(i)\n",
    "\n",
    "data = pd.DataFrame(data=d)\n",
    "data"
   ]
  },
  {
   "cell_type": "code",
   "execution_count": 202,
   "id": "787cc406",
   "metadata": {},
   "outputs": [],
   "source": [
    "def multiPlotObject(data, x0=None, x1=None, y0=None, y1=None):\n",
    "    plt.figure(figsize=(10, 3))\n",
    "    plt.xlabel(\"Time (MJD)\")\n",
    "    plt.ylabel(\"Flux\")\n",
    "    ugrizyC = [\"purple\", \"blue\", \"green\", \"lightgreen\", \"yellow\", \"red\"]\n",
    "\n",
    "    #objData = data[\"object_id\"].isin([objectID])\n",
    "    obj = data#[objData]\n",
    "\n",
    "    for i in range(6):\n",
    "        objPfilt = obj[\"passband\"].isin([i])\n",
    "        objP = obj[objPfilt]\n",
    "        timeP = objP[\"mjd\"]\n",
    "        fluxP = objP[\"flux\"]\n",
    "        plt.plot(timeP,fluxP, 'o', color = ugrizyC[i])\n",
    "\n",
    "    if not (x0 is None) and not (x1 is None):\n",
    "        plt.xlim(x0,x1)\n",
    "    if not (y0 is None) and not (y1 is None):\n",
    "        plt.ylim(y0,y1)"
   ]
  },
  {
   "cell_type": "code",
   "execution_count": 298,
   "id": "a522da5a",
   "metadata": {},
   "outputs": [],
   "source": [
    "def multiSonification(data):\n",
    "    multiData = []\n",
    "\n",
    "    FEObj = pd.DataFrame()\n",
    "    obj = data#[objData]\n",
    "    \n",
    "    for i in range(6):\n",
    "        objPfilt = obj[\"passband\"].isin([i])\n",
    "        objP = obj[objPfilt]\n",
    "        timeP = objP[\"mjd\"]\n",
    "        fluxP = objP[\"flux\"]\n",
    "        scaled_x = sonify.scale_list_to_range(timeP, new_min=0, new_max=30)\n",
    "        scaled_y = sonify.scale_list_to_range(fluxP, new_min=0, new_max=30)\n",
    "        quantized_x = sonify.quantize_x_value(scaled_x)\n",
    "\n",
    "        multiData.append(list(zip(quantized_x, scaled_y)))\n",
    "    \n",
    "    instruments_to_add = [\n",
    "    'acoustic grand piano']+['steel drums']*5#'sitar','shamisen','marimba','ocarina','fretless bass'\n",
    "    \n",
    "    multiDataWIntsruments = []\n",
    "    for index, track in enumerate(multiData):\n",
    "        multiDataWIntsruments.append([instruments_to_add[index]] + track)\n",
    "    \n",
    "\n",
    "    FEObj = obj\n",
    "    sonify.play_midi_from_data(multiDataWIntsruments, track_type='multiple', key='c_major')"
   ]
  },
  {
   "cell_type": "code",
   "execution_count": 295,
   "id": "d583bf02",
   "metadata": {},
   "outputs": [
    {
     "data": {
      "image/png": "[encoded data removed]",
      "text/plain": [
       "<Figure size 720x216 with 1 Axes>"
      ]
     },
     "metadata": {
      "needs_background": "light"
     },
     "output_type": "display_data"
    }
   ],
   "source": [
    "multiPlotObject(data)"
   ]
  },
  {
   "cell_type": "code",
   "execution_count": 299,
   "id": "b3737031",
   "metadata": {},
   "outputs": [
    {
     "name": "stdout",
     "output_type": "stream",
     "text": [
      "Done playing!\n"
     ]
    }
   ],
   "source": [
    "multiSonification(data)"
   ]
  },
  {
   "cell_type": "code",
   "execution_count": null,
   "id": "af5a270c",
   "metadata": {},
   "outputs": [],
   "source": []
  }
 ],
 "metadata": {
  "kernelspec": {
   "display_name": "Python 3",
   "language": "python",
   "name": "python3"
  },
  "language_info": {
   "codemirror_mode": {
    "name": "ipython",
    "version": 3
   },
   "file_extension": ".py",
   "mimetype": "text/x-python",
   "name": "python",
   "nbconvert_exporter": "python",
   "pygments_lexer": "ipython3",
   "version": "3.8.8"
  }
 },
 "nbformat": 4,
 "nbformat_minor": 5
}
