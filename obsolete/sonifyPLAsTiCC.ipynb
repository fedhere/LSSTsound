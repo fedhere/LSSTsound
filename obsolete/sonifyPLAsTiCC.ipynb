{
  "nbformat": 4,
  "nbformat_minor": 0,
  "metadata": {
    "orig_nbformat": 4,
    "colab": {
      "name": "sonifyPLAsTiCC.ipynb",
      "provenance": [],
      "collapsed_sections": []
    },
    "language_info": {
      "name": "python",
      "version": "3.9.5"
    },
    "kernelspec": {
      "name": "python3",
      "display_name": "Python 3.9.5 64-bit ('3.9')"
    },
    "interpreter": {
      "hash": "7812ea015bdcee6f23a998adcdd2ef97c151c0c241b7b7070987d9313e41299d"
    }
  },
  "cells": [
    {
      "cell_type": "code",
      "metadata": {
        "colab": {
          "base_uri": "https://localhost:8080/"
        },
        "id": "2mM-9Tw4q6ay",
        "outputId": "86470bf0-0d6d-4868-a50f-6cecb351fd3d"
      },
      "source": [
        "!pip install astronify"
      ],
      "execution_count": 84,
      "outputs": [
        {
          "output_type": "stream",
          "name": "stdout",
          "text": [
            "Requirement already satisfied: astronify in /Library/Frameworks/Python.framework/Versions/3.9/lib/python3.9/site-packages (0.1)\n",
            "Requirement already satisfied: pyo in /Library/Frameworks/Python.framework/Versions/3.9/lib/python3.9/site-packages (from astronify) (1.0.4)\n",
            "Requirement already satisfied: thinkx in /Library/Frameworks/Python.framework/Versions/3.9/lib/python3.9/site-packages (from astronify) (1.1.3)\n",
            "Requirement already satisfied: astropy in /Library/Frameworks/Python.framework/Versions/3.9/lib/python3.9/site-packages (from astronify) (4.2.1)\n",
            "Requirement already satisfied: numpy>=1.17 in /Library/Frameworks/Python.framework/Versions/3.9/lib/python3.9/site-packages (from astropy->astronify) (1.20.3)\n",
            "Requirement already satisfied: pyerfa in /Library/Frameworks/Python.framework/Versions/3.9/lib/python3.9/site-packages (from astropy->astronify) (2.0.0)\n",
            "Requirement already satisfied: matplotlib in /Library/Frameworks/Python.framework/Versions/3.9/lib/python3.9/site-packages (from thinkx->astronify) (3.4.2)\n",
            "Requirement already satisfied: pandas in /Library/Frameworks/Python.framework/Versions/3.9/lib/python3.9/site-packages (from thinkx->astronify) (1.2.4)\n",
            "Requirement already satisfied: scipy in /Library/Frameworks/Python.framework/Versions/3.9/lib/python3.9/site-packages (from thinkx->astronify) (1.6.3)\n",
            "Requirement already satisfied: markdown in /Library/Frameworks/Python.framework/Versions/3.9/lib/python3.9/site-packages (from thinkx->astronify) (3.3.4)\n",
            "Requirement already satisfied: pillow>=6.2.0 in /Library/Frameworks/Python.framework/Versions/3.9/lib/python3.9/site-packages (from matplotlib->thinkx->astronify) (8.2.0)\n",
            "Requirement already satisfied: pyparsing>=2.2.1 in /Library/Frameworks/Python.framework/Versions/3.9/lib/python3.9/site-packages (from matplotlib->thinkx->astronify) (2.4.7)\n",
            "Requirement already satisfied: kiwisolver>=1.0.1 in /Library/Frameworks/Python.framework/Versions/3.9/lib/python3.9/site-packages (from matplotlib->thinkx->astronify) (1.3.1)\n",
            "Requirement already satisfied: cycler>=0.10 in /Library/Frameworks/Python.framework/Versions/3.9/lib/python3.9/site-packages (from matplotlib->thinkx->astronify) (0.10.0)\n",
            "Requirement already satisfied: python-dateutil>=2.7 in /Library/Frameworks/Python.framework/Versions/3.9/lib/python3.9/site-packages (from matplotlib->thinkx->astronify) (2.8.1)\n",
            "Requirement already satisfied: six in /Library/Frameworks/Python.framework/Versions/3.9/lib/python3.9/site-packages (from cycler>=0.10->matplotlib->thinkx->astronify) (1.16.0)\n",
            "Requirement already satisfied: pytz>=2017.3 in /Library/Frameworks/Python.framework/Versions/3.9/lib/python3.9/site-packages (from pandas->thinkx->astronify) (2021.1)\n"
          ]
        }
      ]
    },
    {
      "cell_type": "code",
      "metadata": {
        "colab": {
          "base_uri": "https://localhost:8080/"
        },
        "id": "eRbMSknuqDDG",
        "outputId": "5ccf081f-bdc4-445a-dd89-13eef7bdb440"
      },
      "source": [
        "\n",
        "from astronify.series import SoniSeries\n",
        "from astropy.table import Table\n",
        "import numpy as np\n",
        "import pandas as pd\n",
        "from matplotlib import pyplot as plt"
      ],
      "execution_count": 5,
      "outputs": [
        {
          "output_type": "stream",
          "name": "stdout",
          "text": [
            "\nWxPython is not found for the current python version.\nPyo will use a minimal GUI toolkit written with Tkinter (if available).\nThis toolkit has limited functionnalities and is no more\nmaintained or updated. If you want to use all of pyo's\nGUI features, you should install WxPython, available here:\nhttp://www.wxpython.org/\n\n"
          ]
        }
      ]
    },
    {
      "cell_type": "code",
      "execution_count": 147,
      "metadata": {},
      "outputs": [
        {
          "output_type": "stream",
          "name": "stdout",
          "text": [
            "\u001b[34mdata\u001b[m\u001b[m/                 sonifyLCA.wav         sonifyPLAsTiCC.ipynb\n"
          ]
        }
      ],
      "source": [
        "ls"
      ]
    },
    {
      "cell_type": "code",
      "metadata": {
        "colab": {
          "base_uri": "https://localhost:8080/"
        },
        "id": "vM81u_1aqXzY",
        "outputId": "1367e2cc-eeee-426a-b6ab-68f0f38123c6"
      },
      "source": [
        "!wget https://zenodo.org/record/2539456/files/plasticc_train_metadata.csv.gz"
      ],
      "execution_count": 87,
      "outputs": [
        {
          "output_type": "stream",
          "name": "stdout",
          "text": [
            "--2021-06-20 13:33:06--  https://zenodo.org/record/2539456/files/plasticc_train_metadata.csv.gz\n",
            "Resolving zenodo.org (zenodo.org)... 137.138.76.77\n",
            "Connecting to zenodo.org (zenodo.org)|137.138.76.77|:443... connected.\n",
            "HTTP request sent, awaiting response... 200 OK\n",
            "Length: 370350 (362K) [application/octet-stream]\n",
            "Saving to: 'plasticc_train_metadata.csv.gz'\n",
            "\n",
            "plasticc_train_meta 100%[===================>] 361.67K   207KB/s    in 1.7s    \n",
            "\n",
            "2021-06-20 13:33:09 (207 KB/s) - 'plasticc_train_metadata.csv.gz' saved [370350/370350]\n",
            "\n"
          ]
        }
      ]
    },
    {
      "cell_type": "code",
      "metadata": {
        "colab": {
          "base_uri": "https://localhost:8080/"
        },
        "id": "vWW16yHQqrwd",
        "outputId": "af1fd04f-6000-43f0-f288-8ef7bde981da"
      },
      "source": [
        "!wget https://zenodo.org/record/2539456/files/plasticc_train_lightcurves.csv.gz"
      ],
      "execution_count": 88,
      "outputs": [
        {
          "output_type": "stream",
          "name": "stdout",
          "text": [
            "--2021-06-20 13:33:11--  https://zenodo.org/record/2539456/files/plasticc_train_lightcurves.csv.gz\n",
            "Resolving zenodo.org (zenodo.org)... 137.138.76.77\n",
            "Connecting to zenodo.org (zenodo.org)|137.138.76.77|:443... connected.\n",
            "HTTP request sent, awaiting response... 200 OK\n",
            "Length: 21553100 (21M) [application/octet-stream]\n",
            "Saving to: 'plasticc_train_lightcurves.csv.gz'\n",
            "\n",
            "plasticc_train_ligh 100%[===================>]  20.55M  4.00MB/s    in 16s     \n",
            "\n",
            "2021-06-20 13:33:28 (1.32 MB/s) - 'plasticc_train_lightcurves.csv.gz' saved [21553100/21553100]\n",
            "\n"
          ]
        }
      ]
    },
    {
      "cell_type": "code",
      "metadata": {
        "id": "c_OXIb2nqmd_"
      },
      "source": [
        "!mkdir data"
      ],
      "execution_count": 89,
      "outputs": [
        {
          "output_type": "stream",
          "name": "stdout",
          "text": [
            "mkdir: data: File exists\n"
          ]
        }
      ]
    },
    {
      "cell_type": "code",
      "metadata": {
        "id": "gT03kYLkqzok"
      },
      "source": [
        "!mv plasticc* data"
      ],
      "execution_count": 90,
      "outputs": []
    },
    {
      "cell_type": "code",
      "metadata": {
        "colab": {
          "base_uri": "https://localhost:8080/"
        },
        "id": "ACn25QZDq1lY",
        "outputId": "44db2e89-e96f-423b-d73a-fa93c30c9663"
      },
      "source": [
        "ls data"
      ],
      "execution_count": 3,
      "outputs": [
        {
          "output_type": "stream",
          "name": "stdout",
          "text": [
            "plasticc_train_lightcurves.csv.gz  plasticc_train_metadata.csv.gz\n"
          ]
        }
      ]
    },
    {
      "cell_type": "code",
      "metadata": {
        "colab": {
          "base_uri": "https://localhost:8080/",
          "height": 206
        },
        "id": "JX65T_BRrYb5",
        "outputId": "a43a0cce-a907-4782-f2f7-0b5c03a2db0a"
      },
      "source": [
        "dataREAD = pd.read_csv(\"data/plasticc_train_lightcurves.csv.gz\")"
      ],
      "execution_count": 6,
      "outputs": []
    },
    {
      "cell_type": "code",
      "execution_count": 11,
      "metadata": {
        "tags": []
      },
      "outputs": [
        {
          "output_type": "execute_result",
          "data": {
            "text/plain": [
              "        object_id         mjd  passband       flux   flux_err  detected_bool\n",
              "867750   31601139  59591.2554         5 -17.186377  22.548611              0\n",
              "867751   31601139  59594.2004         5 -13.339062  30.613119              0\n",
              "867752   31601139  59597.1905         5  -7.165829  52.419529              0\n",
              "867753   31601139  59598.3704         4  -2.019011  29.426947              0\n",
              "867754   31601139  59602.3507         3 -10.196972  13.274638              0\n",
              "...           ...         ...       ...        ...        ...            ...\n",
              "867873   31601139  60662.2603         5   0.992845  15.576884              0\n",
              "867874   31601139  60665.2816         3  10.617948   4.601872              0\n",
              "867875   31601139  60668.3474         4 -27.324520  13.513007              0\n",
              "867876   31601139  60671.2701         0   6.584654   7.009771              0\n",
              "867877   31601139  60673.2576         1   0.649062   3.206029              0\n",
              "\n",
              "[128 rows x 6 columns]"
            ],
            "text/html": "<div>\n<style scoped>\n    .dataframe tbody tr th:only-of-type {\n        vertical-align: middle;\n    }\n\n    .dataframe tbody tr th {\n        vertical-align: top;\n    }\n\n    .dataframe thead th {\n        text-align: right;\n    }\n</style>\n<table border=\"1\" class=\"dataframe\">\n  <thead>\n    <tr style=\"text-align: right;\">\n      <th></th>\n      <th>object_id</th>\n      <th>mjd</th>\n      <th>passband</th>\n      <th>flux</th>\n      <th>flux_err</th>\n      <th>detected_bool</th>\n    </tr>\n  </thead>\n  <tbody>\n    <tr>\n      <th>867750</th>\n      <td>31601139</td>\n      <td>59591.2554</td>\n      <td>5</td>\n      <td>-17.186377</td>\n      <td>22.548611</td>\n      <td>0</td>\n    </tr>\n    <tr>\n      <th>867751</th>\n      <td>31601139</td>\n      <td>59594.2004</td>\n      <td>5</td>\n      <td>-13.339062</td>\n      <td>30.613119</td>\n      <td>0</td>\n    </tr>\n    <tr>\n      <th>867752</th>\n      <td>31601139</td>\n      <td>59597.1905</td>\n      <td>5</td>\n      <td>-7.165829</td>\n      <td>52.419529</td>\n      <td>0</td>\n    </tr>\n    <tr>\n      <th>867753</th>\n      <td>31601139</td>\n      <td>59598.3704</td>\n      <td>4</td>\n      <td>-2.019011</td>\n      <td>29.426947</td>\n      <td>0</td>\n    </tr>\n    <tr>\n      <th>867754</th>\n      <td>31601139</td>\n      <td>59602.3507</td>\n      <td>3</td>\n      <td>-10.196972</td>\n      <td>13.274638</td>\n      <td>0</td>\n    </tr>\n    <tr>\n      <th>...</th>\n      <td>...</td>\n      <td>...</td>\n      <td>...</td>\n      <td>...</td>\n      <td>...</td>\n      <td>...</td>\n    </tr>\n    <tr>\n      <th>867873</th>\n      <td>31601139</td>\n      <td>60662.2603</td>\n      <td>5</td>\n      <td>0.992845</td>\n      <td>15.576884</td>\n      <td>0</td>\n    </tr>\n    <tr>\n      <th>867874</th>\n      <td>31601139</td>\n      <td>60665.2816</td>\n      <td>3</td>\n      <td>10.617948</td>\n      <td>4.601872</td>\n      <td>0</td>\n    </tr>\n    <tr>\n      <th>867875</th>\n      <td>31601139</td>\n      <td>60668.3474</td>\n      <td>4</td>\n      <td>-27.324520</td>\n      <td>13.513007</td>\n      <td>0</td>\n    </tr>\n    <tr>\n      <th>867876</th>\n      <td>31601139</td>\n      <td>60671.2701</td>\n      <td>0</td>\n      <td>6.584654</td>\n      <td>7.009771</td>\n      <td>0</td>\n    </tr>\n    <tr>\n      <th>867877</th>\n      <td>31601139</td>\n      <td>60673.2576</td>\n      <td>1</td>\n      <td>0.649062</td>\n      <td>3.206029</td>\n      <td>0</td>\n    </tr>\n  </tbody>\n</table>\n<p>128 rows × 6 columns</p>\n</div>"
          },
          "metadata": {},
          "execution_count": 11
        }
      ],
      "source": [
        "obj1 = dataREAD[\"object_id\"].isin([31601139]) #20222858, 615 is weird, 31601139, 66626509 is cool\n",
        "obj1DATA = dataREAD[obj1]\n",
        "time = obj1DATA[\"mjd\"]\n",
        "flux = obj1DATA[\"flux\"]\n",
        "obj1DATA"
      ]
    },
    {
      "cell_type": "code",
      "execution_count": 8,
      "metadata": {},
      "outputs": [
        {
          "output_type": "stream",
          "name": "stdout",
          "text": [
            "3500    90\nName: true_target, dtype: int64\n"
          ]
        }
      ],
      "source": [
        "dataMETA = pd.read_csv(\"data/plasticc_train_metadata.csv.gz\")\n",
        "objTF = dataMETA[\"object_id\"].isin([31601139])#31601139\n",
        "objT = dataMETA[objTF]\n",
        "print(objT[\"true_target\"])"
      ]
    },
    {
      "cell_type": "code",
      "execution_count": 163,
      "metadata": {},
      "outputs": [
        {
          "output_type": "execute_result",
          "data": {
            "text/plain": [
              "      object_id        ra     decl  ddf_bool  hostgal_specz  hostgal_photoz  \\\n",
              "3500   31601139  165.7617 -32.4429         0          0.442           0.427   \n",
              "\n",
              "      hostgal_photoz_err  distmod  mwebv  target  ...  true_rv  true_av  \\\n",
              "3500                0.02   41.851  0.077      90  ...      0.0      0.0   \n",
              "\n",
              "      true_peakmjd  libid_cadence  tflux_u  tflux_g  tflux_r  tflux_i  \\\n",
              "3500      60422.77          49331      0.0      0.0      0.0      0.0   \n",
              "\n",
              "      tflux_z  tflux_y  \n",
              "3500      0.0      0.0  \n",
              "\n",
              "[1 rows x 26 columns]"
            ],
            "text/html": "<div>\n<style scoped>\n    .dataframe tbody tr th:only-of-type {\n        vertical-align: middle;\n    }\n\n    .dataframe tbody tr th {\n        vertical-align: top;\n    }\n\n    .dataframe thead th {\n        text-align: right;\n    }\n</style>\n<table border=\"1\" class=\"dataframe\">\n  <thead>\n    <tr style=\"text-align: right;\">\n      <th></th>\n      <th>object_id</th>\n      <th>ra</th>\n      <th>decl</th>\n      <th>ddf_bool</th>\n      <th>hostgal_specz</th>\n      <th>hostgal_photoz</th>\n      <th>hostgal_photoz_err</th>\n      <th>distmod</th>\n      <th>mwebv</th>\n      <th>target</th>\n      <th>...</th>\n      <th>true_rv</th>\n      <th>true_av</th>\n      <th>true_peakmjd</th>\n      <th>libid_cadence</th>\n      <th>tflux_u</th>\n      <th>tflux_g</th>\n      <th>tflux_r</th>\n      <th>tflux_i</th>\n      <th>tflux_z</th>\n      <th>tflux_y</th>\n    </tr>\n  </thead>\n  <tbody>\n    <tr>\n      <th>3500</th>\n      <td>31601139</td>\n      <td>165.7617</td>\n      <td>-32.4429</td>\n      <td>0</td>\n      <td>0.442</td>\n      <td>0.427</td>\n      <td>0.02</td>\n      <td>41.851</td>\n      <td>0.077</td>\n      <td>90</td>\n      <td>...</td>\n      <td>0.0</td>\n      <td>0.0</td>\n      <td>60422.77</td>\n      <td>49331</td>\n      <td>0.0</td>\n      <td>0.0</td>\n      <td>0.0</td>\n      <td>0.0</td>\n      <td>0.0</td>\n      <td>0.0</td>\n    </tr>\n  </tbody>\n</table>\n<p>1 rows × 26 columns</p>\n</div>"
          },
          "metadata": {},
          "execution_count": 163
        }
      ],
      "source": [
        "objT"
      ]
    },
    {
      "cell_type": "code",
      "metadata": {
        "id": "U3QFwp7FqDDH"
      },
      "source": [
        "data_table = Table({\"time\":time,\"flux\":flux})"
      ],
      "execution_count": 9,
      "outputs": []
    },
    {
      "cell_type": "code",
      "execution_count": 12,
      "metadata": {},
      "outputs": [
        {
          "output_type": "display_data",
          "data": {
            "text/plain": "<Figure size 1296x360 with 1 Axes>",
            "image/svg+xml": "<?xml version=\"1.0\" encoding=\"utf-8\" standalone=\"no\"?>\n<!DOCTYPE svg PUBLIC \"-//W3C//DTD SVG 1.1//EN\"\n  \"http://www.w3.org/Graphics/SVG/1.1/DTD/svg11.dtd\">\n<svg height=\"316.55625pt\" version=\"1.1\" viewBox=\"0 0 1060.582813 316.55625\" width=\"1060.582813pt\" xmlns=\"http://www.w3.org/2000/svg\" xmlns:xlink=\"http://www.w3.org/1999/xlink\">\n <metadata>\n  <rdf:RDF xmlns:cc=\"http://creativecommons.org/ns#\" xmlns:dc=\"http://purl.org/dc/elements/1.1/\" xmlns:rdf=\"http://www.w3.org/1999/02/22-rdf-syntax-ns#\">\n   <cc:Work>\n    <dc:type rdf:resource=\"http://purl.org/dc/dcmitype/StillImage\"/>\n    <dc:date>2021-06-21T13:32:04.295614</dc:date>\n    <dc:format>image/svg+xml</dc:format>\n    <dc:creator>\n     <cc:Agent>\n      <dc:title>Matplotlib v3.4.2, https://matplotlib.org/</dc:title>\n     </cc:Agent>\n    </dc:creator>\n   </cc:Work>\n  </rdf:RDF>\n </metadata>\n <defs>\n  <style type=\"text/css\">*{stroke-linecap:butt;stroke-linejoin:round;}</style>\n </defs>\n <g id=\"figure_1\">\n  <g id=\"patch_1\">\n   <path d=\"M 0 316.55625 \nL 1060.582813 316.55625 \nL 1060.582813 0 \nL 0 0 \nz\n\" style=\"fill:none;\"/>\n  </g>\n  <g id=\"axes_1\">\n   <g id=\"patch_2\">\n    <path d=\"M 48.982813 279 \nL 1053.382812 279 \nL 1053.382812 7.2 \nL 48.982813 7.2 \nz\n\" style=\"fill:#ffffff;\"/>\n   </g>\n   <g id=\"matplotlib.axis_1\">\n    <g id=\"xtick_1\">\n     <g id=\"line2d_1\">\n      <defs>\n       <path d=\"M 0 0 \nL 0 3.5 \n\" id=\"mabe9722101\" style=\"stroke:#000000;stroke-width:0.8;\"/>\n      </defs>\n      <g>\n       <use style=\"stroke:#000000;stroke-width:0.8;\" x=\"102.016839\" xlink:href=\"#mabe9722101\" y=\"279\"/>\n      </g>\n     </g>\n     <g id=\"text_1\">\n      <!-- 59600 -->\n      <g transform=\"translate(86.110589 293.598437)scale(0.1 -0.1)\">\n       <defs>\n        <path d=\"M 691 4666 \nL 3169 4666 \nL 3169 4134 \nL 1269 4134 \nL 1269 2991 \nQ 1406 3038 1543 3061 \nQ 1681 3084 1819 3084 \nQ 2600 3084 3056 2656 \nQ 3513 2228 3513 1497 \nQ 3513 744 3044 326 \nQ 2575 -91 1722 -91 \nQ 1428 -91 1123 -41 \nQ 819 9 494 109 \nL 494 744 \nQ 775 591 1075 516 \nQ 1375 441 1709 441 \nQ 2250 441 2565 725 \nQ 2881 1009 2881 1497 \nQ 2881 1984 2565 2268 \nQ 2250 2553 1709 2553 \nQ 1456 2553 1204 2497 \nQ 953 2441 691 2322 \nL 691 4666 \nz\n\" id=\"DejaVuSans-35\" transform=\"scale(0.015625)\"/>\n        <path d=\"M 703 97 \nL 703 672 \nQ 941 559 1184 500 \nQ 1428 441 1663 441 \nQ 2288 441 2617 861 \nQ 2947 1281 2994 2138 \nQ 2813 1869 2534 1725 \nQ 2256 1581 1919 1581 \nQ 1219 1581 811 2004 \nQ 403 2428 403 3163 \nQ 403 3881 828 4315 \nQ 1253 4750 1959 4750 \nQ 2769 4750 3195 4129 \nQ 3622 3509 3622 2328 \nQ 3622 1225 3098 567 \nQ 2575 -91 1691 -91 \nQ 1453 -91 1209 -44 \nQ 966 3 703 97 \nz\nM 1959 2075 \nQ 2384 2075 2632 2365 \nQ 2881 2656 2881 3163 \nQ 2881 3666 2632 3958 \nQ 2384 4250 1959 4250 \nQ 1534 4250 1286 3958 \nQ 1038 3666 1038 3163 \nQ 1038 2656 1286 2365 \nQ 1534 2075 1959 2075 \nz\n\" id=\"DejaVuSans-39\" transform=\"scale(0.015625)\"/>\n        <path d=\"M 2113 2584 \nQ 1688 2584 1439 2293 \nQ 1191 2003 1191 1497 \nQ 1191 994 1439 701 \nQ 1688 409 2113 409 \nQ 2538 409 2786 701 \nQ 3034 994 3034 1497 \nQ 3034 2003 2786 2293 \nQ 2538 2584 2113 2584 \nz\nM 3366 4563 \nL 3366 3988 \nQ 3128 4100 2886 4159 \nQ 2644 4219 2406 4219 \nQ 1781 4219 1451 3797 \nQ 1122 3375 1075 2522 \nQ 1259 2794 1537 2939 \nQ 1816 3084 2150 3084 \nQ 2853 3084 3261 2657 \nQ 3669 2231 3669 1497 \nQ 3669 778 3244 343 \nQ 2819 -91 2113 -91 \nQ 1303 -91 875 529 \nQ 447 1150 447 2328 \nQ 447 3434 972 4092 \nQ 1497 4750 2381 4750 \nQ 2619 4750 2861 4703 \nQ 3103 4656 3366 4563 \nz\n\" id=\"DejaVuSans-36\" transform=\"scale(0.015625)\"/>\n        <path d=\"M 2034 4250 \nQ 1547 4250 1301 3770 \nQ 1056 3291 1056 2328 \nQ 1056 1369 1301 889 \nQ 1547 409 2034 409 \nQ 2525 409 2770 889 \nQ 3016 1369 3016 2328 \nQ 3016 3291 2770 3770 \nQ 2525 4250 2034 4250 \nz\nM 2034 4750 \nQ 2819 4750 3233 4129 \nQ 3647 3509 3647 2328 \nQ 3647 1150 3233 529 \nQ 2819 -91 2034 -91 \nQ 1250 -91 836 529 \nQ 422 1150 422 2328 \nQ 422 3509 836 4129 \nQ 1250 4750 2034 4750 \nz\n\" id=\"DejaVuSans-30\" transform=\"scale(0.015625)\"/>\n       </defs>\n       <use xlink:href=\"#DejaVuSans-35\"/>\n       <use x=\"63.623047\" xlink:href=\"#DejaVuSans-39\"/>\n       <use x=\"127.246094\" xlink:href=\"#DejaVuSans-36\"/>\n       <use x=\"190.869141\" xlink:href=\"#DejaVuSans-30\"/>\n       <use x=\"254.492188\" xlink:href=\"#DejaVuSans-30\"/>\n      </g>\n     </g>\n    </g>\n    <g id=\"xtick_2\">\n     <g id=\"line2d_2\">\n      <g>\n       <use style=\"stroke:#000000;stroke-width:0.8;\" x=\"270.794852\" xlink:href=\"#mabe9722101\" y=\"279\"/>\n      </g>\n     </g>\n     <g id=\"text_2\">\n      <!-- 59800 -->\n      <g transform=\"translate(254.888602 293.598437)scale(0.1 -0.1)\">\n       <defs>\n        <path d=\"M 2034 2216 \nQ 1584 2216 1326 1975 \nQ 1069 1734 1069 1313 \nQ 1069 891 1326 650 \nQ 1584 409 2034 409 \nQ 2484 409 2743 651 \nQ 3003 894 3003 1313 \nQ 3003 1734 2745 1975 \nQ 2488 2216 2034 2216 \nz\nM 1403 2484 \nQ 997 2584 770 2862 \nQ 544 3141 544 3541 \nQ 544 4100 942 4425 \nQ 1341 4750 2034 4750 \nQ 2731 4750 3128 4425 \nQ 3525 4100 3525 3541 \nQ 3525 3141 3298 2862 \nQ 3072 2584 2669 2484 \nQ 3125 2378 3379 2068 \nQ 3634 1759 3634 1313 \nQ 3634 634 3220 271 \nQ 2806 -91 2034 -91 \nQ 1263 -91 848 271 \nQ 434 634 434 1313 \nQ 434 1759 690 2068 \nQ 947 2378 1403 2484 \nz\nM 1172 3481 \nQ 1172 3119 1398 2916 \nQ 1625 2713 2034 2713 \nQ 2441 2713 2670 2916 \nQ 2900 3119 2900 3481 \nQ 2900 3844 2670 4047 \nQ 2441 4250 2034 4250 \nQ 1625 4250 1398 4047 \nQ 1172 3844 1172 3481 \nz\n\" id=\"DejaVuSans-38\" transform=\"scale(0.015625)\"/>\n       </defs>\n       <use xlink:href=\"#DejaVuSans-35\"/>\n       <use x=\"63.623047\" xlink:href=\"#DejaVuSans-39\"/>\n       <use x=\"127.246094\" xlink:href=\"#DejaVuSans-38\"/>\n       <use x=\"190.869141\" xlink:href=\"#DejaVuSans-30\"/>\n       <use x=\"254.492188\" xlink:href=\"#DejaVuSans-30\"/>\n      </g>\n     </g>\n    </g>\n    <g id=\"xtick_3\">\n     <g id=\"line2d_3\">\n      <g>\n       <use style=\"stroke:#000000;stroke-width:0.8;\" x=\"439.572866\" xlink:href=\"#mabe9722101\" y=\"279\"/>\n      </g>\n     </g>\n     <g id=\"text_3\">\n      <!-- 60000 -->\n      <g transform=\"translate(423.666616 293.598437)scale(0.1 -0.1)\">\n       <use xlink:href=\"#DejaVuSans-36\"/>\n       <use x=\"63.623047\" xlink:href=\"#DejaVuSans-30\"/>\n       <use x=\"127.246094\" xlink:href=\"#DejaVuSans-30\"/>\n       <use x=\"190.869141\" xlink:href=\"#DejaVuSans-30\"/>\n       <use x=\"254.492188\" xlink:href=\"#DejaVuSans-30\"/>\n      </g>\n     </g>\n    </g>\n    <g id=\"xtick_4\">\n     <g id=\"line2d_4\">\n      <g>\n       <use style=\"stroke:#000000;stroke-width:0.8;\" x=\"608.350879\" xlink:href=\"#mabe9722101\" y=\"279\"/>\n      </g>\n     </g>\n     <g id=\"text_4\">\n      <!-- 60200 -->\n      <g transform=\"translate(592.444629 293.598437)scale(0.1 -0.1)\">\n       <defs>\n        <path d=\"M 1228 531 \nL 3431 531 \nL 3431 0 \nL 469 0 \nL 469 531 \nQ 828 903 1448 1529 \nQ 2069 2156 2228 2338 \nQ 2531 2678 2651 2914 \nQ 2772 3150 2772 3378 \nQ 2772 3750 2511 3984 \nQ 2250 4219 1831 4219 \nQ 1534 4219 1204 4116 \nQ 875 4013 500 3803 \nL 500 4441 \nQ 881 4594 1212 4672 \nQ 1544 4750 1819 4750 \nQ 2544 4750 2975 4387 \nQ 3406 4025 3406 3419 \nQ 3406 3131 3298 2873 \nQ 3191 2616 2906 2266 \nQ 2828 2175 2409 1742 \nQ 1991 1309 1228 531 \nz\n\" id=\"DejaVuSans-32\" transform=\"scale(0.015625)\"/>\n       </defs>\n       <use xlink:href=\"#DejaVuSans-36\"/>\n       <use x=\"63.623047\" xlink:href=\"#DejaVuSans-30\"/>\n       <use x=\"127.246094\" xlink:href=\"#DejaVuSans-32\"/>\n       <use x=\"190.869141\" xlink:href=\"#DejaVuSans-30\"/>\n       <use x=\"254.492188\" xlink:href=\"#DejaVuSans-30\"/>\n      </g>\n     </g>\n    </g>\n    <g id=\"xtick_5\">\n     <g id=\"line2d_5\">\n      <g>\n       <use style=\"stroke:#000000;stroke-width:0.8;\" x=\"777.128893\" xlink:href=\"#mabe9722101\" y=\"279\"/>\n      </g>\n     </g>\n     <g id=\"text_5\">\n      <!-- 60400 -->\n      <g transform=\"translate(761.222643 293.598437)scale(0.1 -0.1)\">\n       <defs>\n        <path d=\"M 2419 4116 \nL 825 1625 \nL 2419 1625 \nL 2419 4116 \nz\nM 2253 4666 \nL 3047 4666 \nL 3047 1625 \nL 3713 1625 \nL 3713 1100 \nL 3047 1100 \nL 3047 0 \nL 2419 0 \nL 2419 1100 \nL 313 1100 \nL 313 1709 \nL 2253 4666 \nz\n\" id=\"DejaVuSans-34\" transform=\"scale(0.015625)\"/>\n       </defs>\n       <use xlink:href=\"#DejaVuSans-36\"/>\n       <use x=\"63.623047\" xlink:href=\"#DejaVuSans-30\"/>\n       <use x=\"127.246094\" xlink:href=\"#DejaVuSans-34\"/>\n       <use x=\"190.869141\" xlink:href=\"#DejaVuSans-30\"/>\n       <use x=\"254.492188\" xlink:href=\"#DejaVuSans-30\"/>\n      </g>\n     </g>\n    </g>\n    <g id=\"xtick_6\">\n     <g id=\"line2d_6\">\n      <g>\n       <use style=\"stroke:#000000;stroke-width:0.8;\" x=\"945.906906\" xlink:href=\"#mabe9722101\" y=\"279\"/>\n      </g>\n     </g>\n     <g id=\"text_6\">\n      <!-- 60600 -->\n      <g transform=\"translate(930.000656 293.598437)scale(0.1 -0.1)\">\n       <use xlink:href=\"#DejaVuSans-36\"/>\n       <use x=\"63.623047\" xlink:href=\"#DejaVuSans-30\"/>\n       <use x=\"127.246094\" xlink:href=\"#DejaVuSans-36\"/>\n       <use x=\"190.869141\" xlink:href=\"#DejaVuSans-30\"/>\n       <use x=\"254.492188\" xlink:href=\"#DejaVuSans-30\"/>\n      </g>\n     </g>\n    </g>\n    <g id=\"text_7\">\n     <!-- Time (MJD) -->\n     <g transform=\"translate(523.819531 307.276562)scale(0.1 -0.1)\">\n      <defs>\n       <path d=\"M -19 4666 \nL 3928 4666 \nL 3928 4134 \nL 2272 4134 \nL 2272 0 \nL 1638 0 \nL 1638 4134 \nL -19 4134 \nL -19 4666 \nz\n\" id=\"DejaVuSans-54\" transform=\"scale(0.015625)\"/>\n       <path d=\"M 603 3500 \nL 1178 3500 \nL 1178 0 \nL 603 0 \nL 603 3500 \nz\nM 603 4863 \nL 1178 4863 \nL 1178 4134 \nL 603 4134 \nL 603 4863 \nz\n\" id=\"DejaVuSans-69\" transform=\"scale(0.015625)\"/>\n       <path d=\"M 3328 2828 \nQ 3544 3216 3844 3400 \nQ 4144 3584 4550 3584 \nQ 5097 3584 5394 3201 \nQ 5691 2819 5691 2113 \nL 5691 0 \nL 5113 0 \nL 5113 2094 \nQ 5113 2597 4934 2840 \nQ 4756 3084 4391 3084 \nQ 3944 3084 3684 2787 \nQ 3425 2491 3425 1978 \nL 3425 0 \nL 2847 0 \nL 2847 2094 \nQ 2847 2600 2669 2842 \nQ 2491 3084 2119 3084 \nQ 1678 3084 1418 2786 \nQ 1159 2488 1159 1978 \nL 1159 0 \nL 581 0 \nL 581 3500 \nL 1159 3500 \nL 1159 2956 \nQ 1356 3278 1631 3431 \nQ 1906 3584 2284 3584 \nQ 2666 3584 2933 3390 \nQ 3200 3197 3328 2828 \nz\n\" id=\"DejaVuSans-6d\" transform=\"scale(0.015625)\"/>\n       <path d=\"M 3597 1894 \nL 3597 1613 \nL 953 1613 \nQ 991 1019 1311 708 \nQ 1631 397 2203 397 \nQ 2534 397 2845 478 \nQ 3156 559 3463 722 \nL 3463 178 \nQ 3153 47 2828 -22 \nQ 2503 -91 2169 -91 \nQ 1331 -91 842 396 \nQ 353 884 353 1716 \nQ 353 2575 817 3079 \nQ 1281 3584 2069 3584 \nQ 2775 3584 3186 3129 \nQ 3597 2675 3597 1894 \nz\nM 3022 2063 \nQ 3016 2534 2758 2815 \nQ 2500 3097 2075 3097 \nQ 1594 3097 1305 2825 \nQ 1016 2553 972 2059 \nL 3022 2063 \nz\n\" id=\"DejaVuSans-65\" transform=\"scale(0.015625)\"/>\n       <path id=\"DejaVuSans-20\" transform=\"scale(0.015625)\"/>\n       <path d=\"M 1984 4856 \nQ 1566 4138 1362 3434 \nQ 1159 2731 1159 2009 \nQ 1159 1288 1364 580 \nQ 1569 -128 1984 -844 \nL 1484 -844 \nQ 1016 -109 783 600 \nQ 550 1309 550 2009 \nQ 550 2706 781 3412 \nQ 1013 4119 1484 4856 \nL 1984 4856 \nz\n\" id=\"DejaVuSans-28\" transform=\"scale(0.015625)\"/>\n       <path d=\"M 628 4666 \nL 1569 4666 \nL 2759 1491 \nL 3956 4666 \nL 4897 4666 \nL 4897 0 \nL 4281 0 \nL 4281 4097 \nL 3078 897 \nL 2444 897 \nL 1241 4097 \nL 1241 0 \nL 628 0 \nL 628 4666 \nz\n\" id=\"DejaVuSans-4d\" transform=\"scale(0.015625)\"/>\n       <path d=\"M 628 4666 \nL 1259 4666 \nL 1259 325 \nQ 1259 -519 939 -900 \nQ 619 -1281 -91 -1281 \nL -331 -1281 \nL -331 -750 \nL -134 -750 \nQ 284 -750 456 -515 \nQ 628 -281 628 325 \nL 628 4666 \nz\n\" id=\"DejaVuSans-4a\" transform=\"scale(0.015625)\"/>\n       <path d=\"M 1259 4147 \nL 1259 519 \nL 2022 519 \nQ 2988 519 3436 956 \nQ 3884 1394 3884 2338 \nQ 3884 3275 3436 3711 \nQ 2988 4147 2022 4147 \nL 1259 4147 \nz\nM 628 4666 \nL 1925 4666 \nQ 3281 4666 3915 4102 \nQ 4550 3538 4550 2338 \nQ 4550 1131 3912 565 \nQ 3275 0 1925 0 \nL 628 0 \nL 628 4666 \nz\n\" id=\"DejaVuSans-44\" transform=\"scale(0.015625)\"/>\n       <path d=\"M 513 4856 \nL 1013 4856 \nQ 1481 4119 1714 3412 \nQ 1947 2706 1947 2009 \nQ 1947 1309 1714 600 \nQ 1481 -109 1013 -844 \nL 513 -844 \nQ 928 -128 1133 580 \nQ 1338 1288 1338 2009 \nQ 1338 2731 1133 3434 \nQ 928 4138 513 4856 \nz\n\" id=\"DejaVuSans-29\" transform=\"scale(0.015625)\"/>\n      </defs>\n      <use xlink:href=\"#DejaVuSans-54\"/>\n      <use x=\"57.958984\" xlink:href=\"#DejaVuSans-69\"/>\n      <use x=\"85.742188\" xlink:href=\"#DejaVuSans-6d\"/>\n      <use x=\"183.154297\" xlink:href=\"#DejaVuSans-65\"/>\n      <use x=\"244.677734\" xlink:href=\"#DejaVuSans-20\"/>\n      <use x=\"276.464844\" xlink:href=\"#DejaVuSans-28\"/>\n      <use x=\"315.478516\" xlink:href=\"#DejaVuSans-4d\"/>\n      <use x=\"401.757812\" xlink:href=\"#DejaVuSans-4a\"/>\n      <use x=\"431.25\" xlink:href=\"#DejaVuSans-44\"/>\n      <use x=\"508.251953\" xlink:href=\"#DejaVuSans-29\"/>\n     </g>\n    </g>\n   </g>\n   <g id=\"matplotlib.axis_2\">\n    <g id=\"ytick_1\">\n     <g id=\"line2d_7\">\n      <defs>\n       <path d=\"M 0 0 \nL -3.5 0 \n\" id=\"m38a22d5830\" style=\"stroke:#000000;stroke-width:0.8;\"/>\n      </defs>\n      <g>\n       <use style=\"stroke:#000000;stroke-width:0.8;\" x=\"48.982813\" xlink:href=\"#m38a22d5830\" y=\"259.45824\"/>\n      </g>\n     </g>\n     <g id=\"text_8\">\n      <!-- −40 -->\n      <g transform=\"translate(20.878125 263.257459)scale(0.1 -0.1)\">\n       <defs>\n        <path d=\"M 678 2272 \nL 4684 2272 \nL 4684 1741 \nL 678 1741 \nL 678 2272 \nz\n\" id=\"DejaVuSans-2212\" transform=\"scale(0.015625)\"/>\n       </defs>\n       <use xlink:href=\"#DejaVuSans-2212\"/>\n       <use x=\"83.789062\" xlink:href=\"#DejaVuSans-34\"/>\n       <use x=\"147.412109\" xlink:href=\"#DejaVuSans-30\"/>\n      </g>\n     </g>\n    </g>\n    <g id=\"ytick_2\">\n     <g id=\"line2d_8\">\n      <g>\n       <use style=\"stroke:#000000;stroke-width:0.8;\" x=\"48.982813\" xlink:href=\"#m38a22d5830\" y=\"226.270258\"/>\n      </g>\n     </g>\n     <g id=\"text_9\">\n      <!-- −20 -->\n      <g transform=\"translate(20.878125 230.069477)scale(0.1 -0.1)\">\n       <use xlink:href=\"#DejaVuSans-2212\"/>\n       <use x=\"83.789062\" xlink:href=\"#DejaVuSans-32\"/>\n       <use x=\"147.412109\" xlink:href=\"#DejaVuSans-30\"/>\n      </g>\n     </g>\n    </g>\n    <g id=\"ytick_3\">\n     <g id=\"line2d_9\">\n      <g>\n       <use style=\"stroke:#000000;stroke-width:0.8;\" x=\"48.982813\" xlink:href=\"#m38a22d5830\" y=\"193.082276\"/>\n      </g>\n     </g>\n     <g id=\"text_10\">\n      <!-- 0 -->\n      <g transform=\"translate(35.620313 196.881495)scale(0.1 -0.1)\">\n       <use xlink:href=\"#DejaVuSans-30\"/>\n      </g>\n     </g>\n    </g>\n    <g id=\"ytick_4\">\n     <g id=\"line2d_10\">\n      <g>\n       <use style=\"stroke:#000000;stroke-width:0.8;\" x=\"48.982813\" xlink:href=\"#m38a22d5830\" y=\"159.894295\"/>\n      </g>\n     </g>\n     <g id=\"text_11\">\n      <!-- 20 -->\n      <g transform=\"translate(29.257813 163.693513)scale(0.1 -0.1)\">\n       <use xlink:href=\"#DejaVuSans-32\"/>\n       <use x=\"63.623047\" xlink:href=\"#DejaVuSans-30\"/>\n      </g>\n     </g>\n    </g>\n    <g id=\"ytick_5\">\n     <g id=\"line2d_11\">\n      <g>\n       <use style=\"stroke:#000000;stroke-width:0.8;\" x=\"48.982813\" xlink:href=\"#m38a22d5830\" y=\"126.706313\"/>\n      </g>\n     </g>\n     <g id=\"text_12\">\n      <!-- 40 -->\n      <g transform=\"translate(29.257813 130.505531)scale(0.1 -0.1)\">\n       <use xlink:href=\"#DejaVuSans-34\"/>\n       <use x=\"63.623047\" xlink:href=\"#DejaVuSans-30\"/>\n      </g>\n     </g>\n    </g>\n    <g id=\"ytick_6\">\n     <g id=\"line2d_12\">\n      <g>\n       <use style=\"stroke:#000000;stroke-width:0.8;\" x=\"48.982813\" xlink:href=\"#m38a22d5830\" y=\"93.518331\"/>\n      </g>\n     </g>\n     <g id=\"text_13\">\n      <!-- 60 -->\n      <g transform=\"translate(29.257813 97.317549)scale(0.1 -0.1)\">\n       <use xlink:href=\"#DejaVuSans-36\"/>\n       <use x=\"63.623047\" xlink:href=\"#DejaVuSans-30\"/>\n      </g>\n     </g>\n    </g>\n    <g id=\"ytick_7\">\n     <g id=\"line2d_13\">\n      <g>\n       <use style=\"stroke:#000000;stroke-width:0.8;\" x=\"48.982813\" xlink:href=\"#m38a22d5830\" y=\"60.330349\"/>\n      </g>\n     </g>\n     <g id=\"text_14\">\n      <!-- 80 -->\n      <g transform=\"translate(29.257813 64.129568)scale(0.1 -0.1)\">\n       <use xlink:href=\"#DejaVuSans-38\"/>\n       <use x=\"63.623047\" xlink:href=\"#DejaVuSans-30\"/>\n      </g>\n     </g>\n    </g>\n    <g id=\"ytick_8\">\n     <g id=\"line2d_14\">\n      <g>\n       <use style=\"stroke:#000000;stroke-width:0.8;\" x=\"48.982813\" xlink:href=\"#m38a22d5830\" y=\"27.142367\"/>\n      </g>\n     </g>\n     <g id=\"text_15\">\n      <!-- 100 -->\n      <g transform=\"translate(22.895313 30.941586)scale(0.1 -0.1)\">\n       <defs>\n        <path d=\"M 794 531 \nL 1825 531 \nL 1825 4091 \nL 703 3866 \nL 703 4441 \nL 1819 4666 \nL 2450 4666 \nL 2450 531 \nL 3481 531 \nL 3481 0 \nL 794 0 \nL 794 531 \nz\n\" id=\"DejaVuSans-31\" transform=\"scale(0.015625)\"/>\n       </defs>\n       <use xlink:href=\"#DejaVuSans-31\"/>\n       <use x=\"63.623047\" xlink:href=\"#DejaVuSans-30\"/>\n       <use x=\"127.246094\" xlink:href=\"#DejaVuSans-30\"/>\n      </g>\n     </g>\n    </g>\n    <g id=\"text_16\">\n     <!-- Flux -->\n     <g transform=\"translate(14.798438 153.492969)rotate(-90)scale(0.1 -0.1)\">\n      <defs>\n       <path d=\"M 628 4666 \nL 3309 4666 \nL 3309 4134 \nL 1259 4134 \nL 1259 2759 \nL 3109 2759 \nL 3109 2228 \nL 1259 2228 \nL 1259 0 \nL 628 0 \nL 628 4666 \nz\n\" id=\"DejaVuSans-46\" transform=\"scale(0.015625)\"/>\n       <path d=\"M 603 4863 \nL 1178 4863 \nL 1178 0 \nL 603 0 \nL 603 4863 \nz\n\" id=\"DejaVuSans-6c\" transform=\"scale(0.015625)\"/>\n       <path d=\"M 544 1381 \nL 544 3500 \nL 1119 3500 \nL 1119 1403 \nQ 1119 906 1312 657 \nQ 1506 409 1894 409 \nQ 2359 409 2629 706 \nQ 2900 1003 2900 1516 \nL 2900 3500 \nL 3475 3500 \nL 3475 0 \nL 2900 0 \nL 2900 538 \nQ 2691 219 2414 64 \nQ 2138 -91 1772 -91 \nQ 1169 -91 856 284 \nQ 544 659 544 1381 \nz\nM 1991 3584 \nL 1991 3584 \nz\n\" id=\"DejaVuSans-75\" transform=\"scale(0.015625)\"/>\n       <path d=\"M 3513 3500 \nL 2247 1797 \nL 3578 0 \nL 2900 0 \nL 1881 1375 \nL 863 0 \nL 184 0 \nL 1544 1831 \nL 300 3500 \nL 978 3500 \nL 1906 2253 \nL 2834 3500 \nL 3513 3500 \nz\n\" id=\"DejaVuSans-78\" transform=\"scale(0.015625)\"/>\n      </defs>\n      <use xlink:href=\"#DejaVuSans-46\"/>\n      <use x=\"57.519531\" xlink:href=\"#DejaVuSans-6c\"/>\n      <use x=\"85.302734\" xlink:href=\"#DejaVuSans-75\"/>\n      <use x=\"148.681641\" xlink:href=\"#DejaVuSans-78\"/>\n     </g>\n    </g>\n   </g>\n   <g id=\"line2d_15\">\n    <path clip-path=\"url(#p2d307fd2a7)\" d=\"M 94.637358 221.601335 \nL 97.122614 215.217104 \nL 99.64593 204.973247 \nL 100.641636 196.432621 \nL 104.000571 210.003123 \nL 108.176983 197.298154 \nL 114.843462 194.442028 \nL 114.990974 263.493531 \nL 124.280431 187.862564 \nL 125.916312 192.641646 \nL 126.79016 190.74797 \nL 128.418699 190.231558 \nL 145.943089 183.135199 \nL 146.78546 207.510836 \nL 147.611882 259.977846 \nL 171.246036 139.890643 \nL 172.11077 177.304406 \nL 173.839563 244.512165 \nL 174.744551 167.736334 \nL 183.845314 140.357915 \nL 194.033768 205.921555 \nL 196.590586 162.009262 \nL 197.452535 179.01793 \nL 201.725067 197.020123 \nL 244.656877 158.713904 \nL 245.463214 223.240478 \nL 246.292842 213.532497 \nL 252.201507 152.772408 \nL 253.046832 166.932208 \nL 359.696899 216.955625 \nL 366.427766 213.596905 \nL 374.018979 181.33464 \nL 379.957012 145.821449 \nL 382.438217 186.929268 \nL 384.104562 196.115819 \nL 384.957988 186.657724 \nL 387.469912 186.28421 \nL 395.901639 196.982248 \nL 399.253739 168.25672 \nL 400.113157 178.95926 \nL 402.656726 165.777063 \nL 409.380505 201.277675 \nL 412.712267 195.44966 \nL 416.099389 193.898444 \nL 421.151336 208.645138 \nL 428.725672 196.580252 \nL 429.725935 195.964183 \nL 437.126682 207.666363 \nL 447.310663 228.466198 \nL 448.994561 252.64147 \nL 449.939887 183.820737 \nL 450.833651 237.198415 \nL 453.105571 196.671235 \nL 453.300426 203.563916 \nL 454.038407 187.802236 \nL 472.636985 234.36145 \nL 473.535559 211.771046 \nL 474.394049 177.730241 \nL 475.164183 195.988724 \nL 477.724208 189.989955 \nL 483.466373 208.405619 \nL 485.995934 194.011243 \nL 493.650523 184.435843 \nL 495.382016 187.981451 \nL 497.085409 266.645455 \nL 497.902379 215.572761 \nL 500.393795 202.066275 \nL 501.221398 185.743289 \nL 509.582577 190.334232 \nL 519.830524 148.091953 \nL 520.643359 151.773864 \nL 533.259516 193.604655 \nL 548.437385 222.872169 \nL 672.771928 102.535356 \nL 677.8405 207.542919 \nL 684.578541 169.027025 \nL 685.395848 139.884477 \nL 690.44037 206.177597 \nL 692.974572 188.012339 \nL 697.186512 218.982815 \nL 701.47668 206.302178 \nL 705.668197 199.453803 \nL 715.719856 191.459397 \nL 719.07145 223.305554 \nL 721.63983 216.830196 \nL 723.416049 243.332699 \nL 726.689583 194.068927 \nL 731.668028 190.608265 \nL 738.414761 192.256926 \nL 746.025215 219.544606 \nL 747.836625 184.492445 \nL 751.245097 187.656715 \nL 752.092953 205.508298 \nL 752.862665 191.802058 \nL 756.911903 179.001621 \nL 762.165793 202.149494 \nL 765.361858 190.898527 \nL 771.397191 257.336806 \nL 774.795452 201.763041 \nL 777.294126 195.538378 \nL 796.697522 51.264562 \nL 799.20801 19.554545 \nL 808.398226 163.905275 \nL 813.50815 181.352183 \nL 816.001592 115.444467 \nL 816.916031 108.460227 \nL 822.805371 101.086503 \nL 825.334003 158.329574 \nL 826.120002 192.707959 \nL 829.508643 174.066037 \nL 832.027317 174.310011 \nL 832.834329 173.425373 \nL 850.572054 195.781316 \nL 855.63472 180.501444 \nL 859.825393 174.788906 \nL 863.205511 175.983266 \nL 864.055055 184.086437 \nL 871.620867 178.270122 \nL 874.153381 205.096616 \nL 975.73707 190.167028 \nL 988.367319 188.51299 \nL 993.429731 199.339839 \nL 993.453191 202.897936 \nL 998.447755 191.43475 \nL 1000.9974 175.462863 \nL 1003.584598 238.42456 \nL 1006.051036 182.155708 \nL 1007.728267 192.005224 \nL 1007.728267 192.005224 \n\" style=\"fill:none;stroke:#1f77b4;stroke-linecap:square;stroke-width:1.5;\"/>\n   </g>\n   <g id=\"patch_3\">\n    <path d=\"M 48.982813 279 \nL 48.982813 7.2 \n\" style=\"fill:none;stroke:#000000;stroke-linecap:square;stroke-linejoin:miter;stroke-width:0.8;\"/>\n   </g>\n   <g id=\"patch_4\">\n    <path d=\"M 1053.382812 279 \nL 1053.382812 7.2 \n\" style=\"fill:none;stroke:#000000;stroke-linecap:square;stroke-linejoin:miter;stroke-width:0.8;\"/>\n   </g>\n   <g id=\"patch_5\">\n    <path d=\"M 48.982812 279 \nL 1053.382812 279 \n\" style=\"fill:none;stroke:#000000;stroke-linecap:square;stroke-linejoin:miter;stroke-width:0.8;\"/>\n   </g>\n   <g id=\"patch_6\">\n    <path d=\"M 48.982812 7.2 \nL 1053.382812 7.2 \n\" style=\"fill:none;stroke:#000000;stroke-linecap:square;stroke-linejoin:miter;stroke-width:0.8;\"/>\n   </g>\n  </g>\n </g>\n <defs>\n  <clipPath id=\"p2d307fd2a7\">\n   <rect height=\"271.8\" width=\"1004.4\" x=\"48.982813\" y=\"7.2\"/>\n  </clipPath>\n </defs>\n</svg>\n",
            "image/png": "[encoded data removed]"
          },
          "metadata": {
            "needs_background": "light"
          }
        }
      ],
      "source": [
        "f, ax = plt.subplots(figsize=(18,5))\n",
        "ax.plot(time, flux)\n",
        "ax.set_xlabel(\"Time (MJD)\")\n",
        "ax.set_ylabel(\"Flux\")\n",
        "plt.show()"
      ]
    },
    {
      "cell_type": "code",
      "execution_count": 13,
      "metadata": {},
      "outputs": [],
      "source": [
        "sonifyLC = SoniSeries(data_table)"
      ]
    },
    {
      "cell_type": "code",
      "execution_count": 14,
      "metadata": {},
      "outputs": [
        {
          "output_type": "execute_result",
          "data": {
            "text/plain": [
              "{'pitch_range': [55, 1760],\n",
              " 'center_pitch': 440,\n",
              " 'zero_point': 'median',\n",
              " 'stretch': 'linear'}"
            ]
          },
          "metadata": {},
          "execution_count": 14
        }
      ],
      "source": [
        "sonifyLC.pitch_mapper.pitch_map_args\n",
        "{'pitch_range': [55, 1760],\n",
        " 'center_pitch': 440,\n",
        " 'zero_point': 'median',\n",
        " 'stretch': 'linear'\n",
        " }"
      ]
    },
    {
      "cell_type": "code",
      "execution_count": 171,
      "metadata": {},
      "outputs": [],
      "source": [
        "sonifyLC.pitch_mapper.pitch_map_args[\"minmax_percent\"] = [0.5, 99.5]"
      ]
    },
    {
      "cell_type": "code",
      "execution_count": 157,
      "metadata": {},
      "outputs": [],
      "source": [
        "del sonifyLC.pitch_mapper.pitch_map_args[\"minmax_percent\"]"
      ]
    },
    {
      "cell_type": "code",
      "metadata": {
        "id": "iqu0fFUVsvBS"
      },
      "source": [
        "sonifyLC.sonify()"
      ],
      "execution_count": 15,
      "outputs": []
    },
    {
      "cell_type": "code",
      "metadata": {
        "id": "w0yRVDw6s6Wt"
      },
      "source": [
        "sonifyLC.play();"
      ],
      "execution_count": null,
      "outputs": []
    },
    {
      "cell_type": "code",
      "metadata": {
        "id": "UZsYnPn5s-tr"
      },
      "source": [
        "sonifyLC.stop();"
      ],
      "execution_count": null,
      "outputs": []
    },
    {
      "cell_type": "code",
      "metadata": {
        "id": "WqHYBeTEtHEA"
      },
      "source": [
        "sonifyLC.write(\"sonifyLCA.wav\")"
      ],
      "execution_count": 16,
      "outputs": [
        {
          "output_type": "stream",
          "name": "stdout",
          "text": [
            "Pyo message: Offline Server rendering file sonifyLCA.wav dur=3.356922\nPyo message: Offline Server rendering finished.\n"
          ]
        }
      ]
    },
    {
      "cell_type": "code",
      "execution_count": null,
      "metadata": {},
      "outputs": [],
      "source": [
        "#################################################"
      ]
    },
    {
      "cell_type": "code",
      "execution_count": 17,
      "metadata": {},
      "outputs": [
        {
          "output_type": "execute_result",
          "data": {
            "text/plain": [
              "        object_id         mjd  passband       flux   flux_err  detected_bool\n",
              "867750   31601139  59591.2554         5 -17.186377  22.548611              0\n",
              "867751   31601139  59594.2004         5 -13.339062  30.613119              0\n",
              "867752   31601139  59597.1905         5  -7.165829  52.419529              0\n",
              "867753   31601139  59598.3704         4  -2.019011  29.426947              0\n",
              "867754   31601139  59602.3507         3 -10.196972  13.274638              0\n",
              "...           ...         ...       ...        ...        ...            ...\n",
              "867873   31601139  60662.2603         5   0.992845  15.576884              0\n",
              "867874   31601139  60665.2816         3  10.617948   4.601872              0\n",
              "867875   31601139  60668.3474         4 -27.324520  13.513007              0\n",
              "867876   31601139  60671.2701         0   6.584654   7.009771              0\n",
              "867877   31601139  60673.2576         1   0.649062   3.206029              0\n",
              "\n",
              "[128 rows x 6 columns]"
            ],
            "text/html": "<div>\n<style scoped>\n    .dataframe tbody tr th:only-of-type {\n        vertical-align: middle;\n    }\n\n    .dataframe tbody tr th {\n        vertical-align: top;\n    }\n\n    .dataframe thead th {\n        text-align: right;\n    }\n</style>\n<table border=\"1\" class=\"dataframe\">\n  <thead>\n    <tr style=\"text-align: right;\">\n      <th></th>\n      <th>object_id</th>\n      <th>mjd</th>\n      <th>passband</th>\n      <th>flux</th>\n      <th>flux_err</th>\n      <th>detected_bool</th>\n    </tr>\n  </thead>\n  <tbody>\n    <tr>\n      <th>867750</th>\n      <td>31601139</td>\n      <td>59591.2554</td>\n      <td>5</td>\n      <td>-17.186377</td>\n      <td>22.548611</td>\n      <td>0</td>\n    </tr>\n    <tr>\n      <th>867751</th>\n      <td>31601139</td>\n      <td>59594.2004</td>\n      <td>5</td>\n      <td>-13.339062</td>\n      <td>30.613119</td>\n      <td>0</td>\n    </tr>\n    <tr>\n      <th>867752</th>\n      <td>31601139</td>\n      <td>59597.1905</td>\n      <td>5</td>\n      <td>-7.165829</td>\n      <td>52.419529</td>\n      <td>0</td>\n    </tr>\n    <tr>\n      <th>867753</th>\n      <td>31601139</td>\n      <td>59598.3704</td>\n      <td>4</td>\n      <td>-2.019011</td>\n      <td>29.426947</td>\n      <td>0</td>\n    </tr>\n    <tr>\n      <th>867754</th>\n      <td>31601139</td>\n      <td>59602.3507</td>\n      <td>3</td>\n      <td>-10.196972</td>\n      <td>13.274638</td>\n      <td>0</td>\n    </tr>\n    <tr>\n      <th>...</th>\n      <td>...</td>\n      <td>...</td>\n      <td>...</td>\n      <td>...</td>\n      <td>...</td>\n      <td>...</td>\n    </tr>\n    <tr>\n      <th>867873</th>\n      <td>31601139</td>\n      <td>60662.2603</td>\n      <td>5</td>\n      <td>0.992845</td>\n      <td>15.576884</td>\n      <td>0</td>\n    </tr>\n    <tr>\n      <th>867874</th>\n      <td>31601139</td>\n      <td>60665.2816</td>\n      <td>3</td>\n      <td>10.617948</td>\n      <td>4.601872</td>\n      <td>0</td>\n    </tr>\n    <tr>\n      <th>867875</th>\n      <td>31601139</td>\n      <td>60668.3474</td>\n      <td>4</td>\n      <td>-27.324520</td>\n      <td>13.513007</td>\n      <td>0</td>\n    </tr>\n    <tr>\n      <th>867876</th>\n      <td>31601139</td>\n      <td>60671.2701</td>\n      <td>0</td>\n      <td>6.584654</td>\n      <td>7.009771</td>\n      <td>0</td>\n    </tr>\n    <tr>\n      <th>867877</th>\n      <td>31601139</td>\n      <td>60673.2576</td>\n      <td>1</td>\n      <td>0.649062</td>\n      <td>3.206029</td>\n      <td>0</td>\n    </tr>\n  </tbody>\n</table>\n<p>128 rows × 6 columns</p>\n</div>"
          },
          "metadata": {},
          "execution_count": 17
        }
      ],
      "source": [
        "obj1DATA"
      ]
    },
    {
      "cell_type": "code",
      "execution_count": 73,
      "metadata": {},
      "outputs": [
        {
          "output_type": "stream",
          "name": "stdout",
          "text": [
            "Pyo message: Offline Server rendering file U.wav dur=3.878328\nPyo message: Offline Server rendering finished.\n"
          ]
        }
      ],
      "source": [
        "obj1UF = obj1DATA[\"passband\"].isin([0])\n",
        "obj1U = obj1DATA[obj1UF]\n",
        "timeU = obj1U[\"mjd\"]\n",
        "fluxU = obj1U[\"flux\"]\n",
        "data_tableU = Table({\"time\":timeU,\"flux\":fluxU})\n",
        "sonifyU = SoniSeries(data_tableU)\n",
        "sonifyU.pitch_mapper.pitch_map_args['pitch_range'] = [0, 1760]\n",
        "sonifyU.pitch_mapper.pitch_map_args[\"center_pitch\"] = 55\n",
        "sonifyU.note_spacing = 0.2\n",
        "sonifyU.sonify()\n",
        "sonifyU.write(\"U.wav\")"
      ]
    },
    {
      "cell_type": "code",
      "execution_count": 74,
      "metadata": {},
      "outputs": [
        {
          "output_type": "stream",
          "name": "stdout",
          "text": [
            "Pyo message: Offline Server rendering file G.wav dur=5.994019\nPyo message: Offline Server rendering finished.\n"
          ]
        }
      ],
      "source": [
        "obj1GF = obj1DATA[\"passband\"].isin([1])\n",
        "obj1G = obj1DATA[obj1GF]\n",
        "timeG = obj1G[\"mjd\"]\n",
        "fluxG = obj1G[\"flux\"]\n",
        "data_tableG = Table({\"time\":timeG,\"flux\":fluxG})\n",
        "sonifyG = SoniSeries(data_tableG)\n",
        "sonifyG.pitch_mapper.pitch_map_args[\"center_pitch\"] = 110\n",
        "sonifyG.note_spacing = 0.2\n",
        "sonifyG.sonify()\n",
        "sonifyG.write(\"G.wav\")"
      ]
    },
    {
      "cell_type": "code",
      "execution_count": 75,
      "metadata": {},
      "outputs": [
        {
          "output_type": "stream",
          "name": "stdout",
          "text": [
            "Pyo message: Offline Server rendering file R.wav dur=6.656199\nPyo message: Offline Server rendering finished.\n"
          ]
        }
      ],
      "source": [
        "obj1RF = obj1DATA[\"passband\"].isin([2])\n",
        "obj1R = obj1DATA[obj1RF]\n",
        "timeR = obj1R[\"mjd\"]\n",
        "fluxR = obj1R[\"flux\"]\n",
        "data_tableR = Table({\"time\":timeR,\"flux\":fluxR})\n",
        "sonifyR = SoniSeries(data_tableR)\n",
        "sonifyR.pitch_mapper.pitch_map_args[\"center_pitch\"] = 220\n",
        "sonifyR.note_spacing = 0.2\n",
        "sonifyR.sonify()\n",
        "sonifyR.write(\"R.wav\")"
      ]
    },
    {
      "cell_type": "code",
      "execution_count": 76,
      "metadata": {},
      "outputs": [
        {
          "output_type": "stream",
          "name": "stdout",
          "text": [
            "Pyo message: Offline Server rendering file I.wav dur=7.846124\nPyo message: Offline Server rendering finished.\n"
          ]
        }
      ],
      "source": [
        "obj1IF = obj1DATA[\"passband\"].isin([3])\n",
        "obj1I = obj1DATA[obj1IF]\n",
        "timeI = obj1I[\"mjd\"]\n",
        "fluxI = obj1I[\"flux\"]\n",
        "data_tableI = Table({\"time\":timeI,\"flux\":fluxI})\n",
        "sonifyI = SoniSeries(data_tableI)\n",
        "sonifyI.pitch_mapper.pitch_map_args[\"center_pitch\"] = 440\n",
        "sonifyI.note_spacing = 0.2\n",
        "sonifyI.sonify()\n",
        "sonifyI.write(\"I.wav\")"
      ]
    },
    {
      "cell_type": "code",
      "execution_count": 77,
      "metadata": {},
      "outputs": [
        {
          "output_type": "stream",
          "name": "stdout",
          "text": [
            "Pyo message: Offline Server rendering file Z.wav dur=9.432143\nPyo message: Offline Server rendering finished.\n"
          ]
        }
      ],
      "source": [
        "obj1ZF = obj1DATA[\"passband\"].isin([4])\n",
        "obj1Z = obj1DATA[obj1ZF]\n",
        "timeZ = obj1Z[\"mjd\"]\n",
        "fluxZ = obj1Z[\"flux\"]\n",
        "data_tableZ = Table({\"time\":timeZ,\"flux\":fluxZ})\n",
        "sonifyZ = SoniSeries(data_tableZ)\n",
        "sonifyZ.pitch_mapper.pitch_map_args[\"center_pitch\"] = 880\n",
        "sonifyZ.note_spacing = 0.2\n",
        "sonifyZ.sonify()\n",
        "sonifyZ.write(\"Z.wav\")"
      ]
    },
    {
      "cell_type": "code",
      "execution_count": 78,
      "metadata": {},
      "outputs": [
        {
          "output_type": "stream",
          "name": "stdout",
          "text": [
            "Pyo message: Offline Server rendering file Y.wav dur=9.092097\nPyo message: Offline Server rendering finished.\n"
          ]
        }
      ],
      "source": [
        "obj1YF = obj1DATA[\"passband\"].isin([5])\n",
        "obj1Y = obj1DATA[obj1YF]\n",
        "timeY = obj1Y[\"mjd\"]\n",
        "fluxY = obj1Y[\"flux\"]\n",
        "data_tableY = Table({\"time\":timeY,\"flux\":fluxY})\n",
        "sonifyY = SoniSeries(data_tableY)\n",
        "sonifyY.pitch_mapper.pitch_map_args[\"center_pitch\"] = 1760\n",
        "sonifyY.note_spacing = 0.2\n",
        "sonifyY.sonify()\n",
        "sonifyY.write(\"Y.wav\")"
      ]
    },
    {
      "cell_type": "code",
      "execution_count": null,
      "metadata": {},
      "outputs": [],
      "source": []
    }
  ]
}
